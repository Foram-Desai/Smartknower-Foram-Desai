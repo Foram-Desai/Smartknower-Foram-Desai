{
 "cells": [
  {
   "cell_type": "code",
   "execution_count": 3,
   "id": "1b481702",
   "metadata": {},
   "outputs": [],
   "source": [
    "import pandas as pd"
   ]
  },
  {
   "cell_type": "code",
   "execution_count": 4,
   "id": "85bde44f",
   "metadata": {},
   "outputs": [],
   "source": [
    "radius=pd.read_csv('radius.csv')"
   ]
  },
  {
   "cell_type": "code",
   "execution_count": 5,
   "id": "cfe78293",
   "metadata": {},
   "outputs": [
    {
     "data": {
      "text/html": [
       "<div>\n",
       "<style scoped>\n",
       "    .dataframe tbody tr th:only-of-type {\n",
       "        vertical-align: middle;\n",
       "    }\n",
       "\n",
       "    .dataframe tbody tr th {\n",
       "        vertical-align: top;\n",
       "    }\n",
       "\n",
       "    .dataframe thead th {\n",
       "        text-align: right;\n",
       "    }\n",
       "</style>\n",
       "<table border=\"1\" class=\"dataframe\">\n",
       "  <thead>\n",
       "    <tr style=\"text-align: right;\">\n",
       "      <th></th>\n",
       "      <th>Name</th>\n",
       "      <th>compressive strength MPa</th>\n",
       "      <th>compressive stiffness N/mm</th>\n",
       "      <th>SEA J/kg</th>\n",
       "      <th>strain energy mJ</th>\n",
       "      <th>mass kg</th>\n",
       "      <th>factor of safety</th>\n",
       "      <th>force</th>\n",
       "      <th>deformation (mm)</th>\n",
       "      <th>Volume mm^3</th>\n",
       "      <th>R</th>\n",
       "      <th>r</th>\n",
       "      <th>D</th>\n",
       "      <th>L</th>\n",
       "      <th>r/l</th>\n",
       "      <th>r/R</th>\n",
       "      <th>CS N/mm</th>\n",
       "      <th>SEA</th>\n",
       "    </tr>\n",
       "  </thead>\n",
       "  <tbody>\n",
       "    <tr>\n",
       "      <th>0</th>\n",
       "      <td>Anti Trichiral</td>\n",
       "      <td>13.911</td>\n",
       "      <td>36.309063</td>\n",
       "      <td>1.166544</td>\n",
       "      <td>15.2331</td>\n",
       "      <td>0.013058</td>\n",
       "      <td>1.9726</td>\n",
       "      <td>37.5</td>\n",
       "      <td>1.0328</td>\n",
       "      <td>12677.98</td>\n",
       "      <td>10.0</td>\n",
       "      <td>3.00</td>\n",
       "      <td>6.0</td>\n",
       "      <td>7.14</td>\n",
       "      <td>0.42008</td>\n",
       "      <td>0.3</td>\n",
       "      <td>0.027541</td>\n",
       "      <td>11.665437</td>\n",
       "    </tr>\n",
       "    <tr>\n",
       "      <th>1</th>\n",
       "      <td>Anti Trichiral</td>\n",
       "      <td>14.391</td>\n",
       "      <td>31.571351</td>\n",
       "      <td>1.120579</td>\n",
       "      <td>15.3560</td>\n",
       "      <td>0.013704</td>\n",
       "      <td>1.9068</td>\n",
       "      <td>35.0</td>\n",
       "      <td>1.1086</td>\n",
       "      <td>13304.49</td>\n",
       "      <td>10.5</td>\n",
       "      <td>3.15</td>\n",
       "      <td>6.3</td>\n",
       "      <td>7.55</td>\n",
       "      <td>0.41737</td>\n",
       "      <td>0.3</td>\n",
       "      <td>0.031674</td>\n",
       "      <td>11.205794</td>\n",
       "    </tr>\n",
       "    <tr>\n",
       "      <th>2</th>\n",
       "      <td>Anti Trichiral</td>\n",
       "      <td>14.203</td>\n",
       "      <td>27.060461</td>\n",
       "      <td>1.254658</td>\n",
       "      <td>18.0040</td>\n",
       "      <td>0.014350</td>\n",
       "      <td>1.9319</td>\n",
       "      <td>35.0</td>\n",
       "      <td>1.2934</td>\n",
       "      <td>13931.77</td>\n",
       "      <td>11.0</td>\n",
       "      <td>3.30</td>\n",
       "      <td>6.6</td>\n",
       "      <td>7.95</td>\n",
       "      <td>0.41497</td>\n",
       "      <td>0.3</td>\n",
       "      <td>0.036954</td>\n",
       "      <td>12.546584</td>\n",
       "    </tr>\n",
       "    <tr>\n",
       "      <th>3</th>\n",
       "      <td>Anti Trichiral</td>\n",
       "      <td>13.594</td>\n",
       "      <td>23.384519</td>\n",
       "      <td>1.021501</td>\n",
       "      <td>15.3190</td>\n",
       "      <td>0.014997</td>\n",
       "      <td>2.0185</td>\n",
       "      <td>30.0</td>\n",
       "      <td>1.2829</td>\n",
       "      <td>14559.76</td>\n",
       "      <td>11.5</td>\n",
       "      <td>3.45</td>\n",
       "      <td>6.9</td>\n",
       "      <td>8.36</td>\n",
       "      <td>0.41283</td>\n",
       "      <td>0.3</td>\n",
       "      <td>0.042763</td>\n",
       "      <td>10.215014</td>\n",
       "    </tr>\n",
       "    <tr>\n",
       "      <th>4</th>\n",
       "      <td>Anti Trichiral</td>\n",
       "      <td>14.442</td>\n",
       "      <td>20.305234</td>\n",
       "      <td>1.206974</td>\n",
       "      <td>18.8820</td>\n",
       "      <td>0.015644</td>\n",
       "      <td>1.9000</td>\n",
       "      <td>31.0</td>\n",
       "      <td>1.5267</td>\n",
       "      <td>15188.43</td>\n",
       "      <td>12.0</td>\n",
       "      <td>3.60</td>\n",
       "      <td>7.2</td>\n",
       "      <td>8.76</td>\n",
       "      <td>0.41090</td>\n",
       "      <td>0.3</td>\n",
       "      <td>0.049248</td>\n",
       "      <td>12.069739</td>\n",
       "    </tr>\n",
       "  </tbody>\n",
       "</table>\n",
       "</div>"
      ],
      "text/plain": [
       "             Name  compressive strength MPa  compressive stiffness N/mm  \\\n",
       "0  Anti Trichiral                    13.911                   36.309063   \n",
       "1  Anti Trichiral                    14.391                   31.571351   \n",
       "2  Anti Trichiral                    14.203                   27.060461   \n",
       "3  Anti Trichiral                    13.594                   23.384519   \n",
       "4  Anti Trichiral                    14.442                   20.305234   \n",
       "\n",
       "   SEA J/kg  strain energy mJ   mass kg  factor of safety  force  \\\n",
       "0  1.166544           15.2331  0.013058            1.9726   37.5   \n",
       "1  1.120579           15.3560  0.013704            1.9068   35.0   \n",
       "2  1.254658           18.0040  0.014350            1.9319   35.0   \n",
       "3  1.021501           15.3190  0.014997            2.0185   30.0   \n",
       "4  1.206974           18.8820  0.015644            1.9000   31.0   \n",
       "\n",
       "   deformation (mm)  Volume mm^3     R     r    D     L      r/l  r/R  \\\n",
       "0            1.0328     12677.98  10.0  3.00  6.0  7.14  0.42008  0.3   \n",
       "1            1.1086     13304.49  10.5  3.15  6.3  7.55  0.41737  0.3   \n",
       "2            1.2934     13931.77  11.0  3.30  6.6  7.95  0.41497  0.3   \n",
       "3            1.2829     14559.76  11.5  3.45  6.9  8.36  0.41283  0.3   \n",
       "4            1.5267     15188.43  12.0  3.60  7.2  8.76  0.41090  0.3   \n",
       "\n",
       "    CS N/mm        SEA  \n",
       "0  0.027541  11.665437  \n",
       "1  0.031674  11.205794  \n",
       "2  0.036954  12.546584  \n",
       "3  0.042763  10.215014  \n",
       "4  0.049248  12.069739  "
      ]
     },
     "execution_count": 5,
     "metadata": {},
     "output_type": "execute_result"
    }
   ],
   "source": [
    "radius.head()"
   ]
  },
  {
   "cell_type": "code",
   "execution_count": 6,
   "id": "e3337d88",
   "metadata": {},
   "outputs": [],
   "source": [
    "from matplotlib import pyplot as plt"
   ]
  },
  {
   "cell_type": "code",
   "execution_count": 7,
   "id": "ac597b25",
   "metadata": {},
   "outputs": [],
   "source": [
    "import seaborn as sns"
   ]
  },
  {
   "cell_type": "code",
   "execution_count": 8,
   "id": "5ee37262",
   "metadata": {},
   "outputs": [
    {
     "data": {
      "text/plain": [
       "<AxesSubplot:xlabel='R', ylabel='CS N/mm'>"
      ]
     },
     "execution_count": 8,
     "metadata": {},
     "output_type": "execute_result"
    },
    {
     "data": {
      "image/png": "[encoded data removed]",
      "text/plain": [
       "<Figure size 432x288 with 1 Axes>"
      ]
     },
     "metadata": {
      "needs_background": "light"
     },
     "output_type": "display_data"
    }
   ],
   "source": [
    "sns.scatterplot(x='R',y='CS N/mm', data=radius)"
   ]
  },
  {
   "cell_type": "code",
   "execution_count": 9,
   "id": "b7b8bfa4",
   "metadata": {},
   "outputs": [
    {
     "data": {
      "text/plain": [
       "<AxesSubplot:xlabel='R', ylabel='SEA J/kg'>"
      ]
     },
     "execution_count": 9,
     "metadata": {},
     "output_type": "execute_result"
    },
    {
     "data": {
      "image/png": "[encoded data removed]",
      "text/plain": [
       "<Figure size 432x288 with 1 Axes>"
      ]
     },
     "metadata": {
      "needs_background": "light"
     },
     "output_type": "display_data"
    }
   ],
   "source": [
    "sns.scatterplot(x='R',y='SEA J/kg', data=radius)"
   ]
  },
  {
   "cell_type": "code",
   "execution_count": 10,
   "id": "3db43111",
   "metadata": {},
   "outputs": [
    {
     "data": {
      "text/plain": [
       "<AxesSubplot:xlabel='R', ylabel='compressive strength MPa'>"
      ]
     },
     "execution_count": 10,
     "metadata": {},
     "output_type": "execute_result"
    },
    {
     "data": {
      "image/png": "[encoded data removed]",
      "text/plain": [
       "<Figure size 432x288 with 1 Axes>"
      ]
     },
     "metadata": {
      "needs_background": "light"
     },
     "output_type": "display_data"
    }
   ],
   "source": [
    "sns.scatterplot(x='R',y='compressive strength MPa', data=radius)"
   ]
  },
  {
   "cell_type": "code",
   "execution_count": 11,
   "id": "1c1ab869",
   "metadata": {},
   "outputs": [],
   "source": [
    "from sklearn.model_selection import train_test_split"
   ]
  },
  {
   "cell_type": "code",
   "execution_count": 12,
   "id": "2fb40332",
   "metadata": {},
   "outputs": [],
   "source": [
    "y=radius[['compressive strength MPa']]\n",
    "x=radius[['R','r/l']]"
   ]
  },
  {
   "cell_type": "code",
   "execution_count": 13,
   "id": "422ca99e",
   "metadata": {},
   "outputs": [],
   "source": [
    "x_train,x_test,y_train,y_test=train_test_split(x,y,test_size=0.3)"
   ]
  },
  {
   "cell_type": "code",
   "execution_count": 14,
   "id": "fec07fd4",
   "metadata": {},
   "outputs": [],
   "source": [
    "from sklearn.ensemble import RandomForestRegressor"
   ]
  },
  {
   "cell_type": "code",
   "execution_count": 15,
   "id": "f760dce7",
   "metadata": {},
   "outputs": [
    {
     "name": "stderr",
     "output_type": "stream",
     "text": [
      "C:\\Users\\hp\\AppData\\Local\\Temp\\ipykernel_16896\\3167182529.py:2: DataConversionWarning: A column-vector y was passed when a 1d array was expected. Please change the shape of y to (n_samples,), for example using ravel().\n",
      "  Rr1.fit(x_train,y_train)\n"
     ]
    },
    {
     "data": {
      "text/plain": [
       "RandomForestRegressor()"
      ]
     },
     "execution_count": 15,
     "metadata": {},
     "output_type": "execute_result"
    }
   ],
   "source": [
    "Rr1=RandomForestRegressor()\n",
    "Rr1.fit(x_train,y_train)"
   ]
  },
  {
   "cell_type": "code",
   "execution_count": 16,
   "id": "d23f5175",
   "metadata": {},
   "outputs": [],
   "source": [
    "y_pred=Rr1.predict(x_test)"
   ]
  },
  {
   "cell_type": "code",
   "execution_count": 17,
   "id": "b94f062f",
   "metadata": {},
   "outputs": [],
   "source": [
    "from sklearn.metrics import mean_squared_error"
   ]
  },
  {
   "cell_type": "code",
   "execution_count": 18,
   "id": "df86fc7a",
   "metadata": {},
   "outputs": [
    {
     "data": {
      "text/plain": [
       "0.15854293941705422"
      ]
     },
     "execution_count": 18,
     "metadata": {},
     "output_type": "execute_result"
    }
   ],
   "source": [
    "mean_squared_error(y_test,y_pred)"
   ]
  },
  {
   "cell_type": "code",
   "execution_count": 19,
   "id": "34974c56",
   "metadata": {},
   "outputs": [],
   "source": [
    "from sklearn.model_selection import train_test_split"
   ]
  },
  {
   "cell_type": "code",
   "execution_count": 50,
   "id": "2dc985cf",
   "metadata": {},
   "outputs": [],
   "source": [
    "y=radius[['CS N/mm']]\n",
    "x=radius[['r/l']]"
   ]
  },
  {
   "cell_type": "code",
   "execution_count": 51,
   "id": "3e0215bd",
   "metadata": {},
   "outputs": [],
   "source": [
    "x_train,x_test,y_train,y_test=train_test_split(x,y,test_size=0.3)"
   ]
  },
  {
   "cell_type": "code",
   "execution_count": 52,
   "id": "e70bf2f1",
   "metadata": {},
   "outputs": [
    {
     "name": "stderr",
     "output_type": "stream",
     "text": [
      "C:\\Users\\hp\\AppData\\Local\\Temp\\ipykernel_16896\\3272411613.py:3: DataConversionWarning: A column-vector y was passed when a 1d array was expected. Please change the shape of y to (n_samples,), for example using ravel().\n",
      "  Rr2.fit(x_train,y_train)\n"
     ]
    },
    {
     "data": {
      "text/plain": [
       "RandomForestRegressor()"
      ]
     },
     "execution_count": 52,
     "metadata": {},
     "output_type": "execute_result"
    }
   ],
   "source": [
    "from sklearn.ensemble import RandomForestRegressor\n",
    "Rr2=RandomForestRegressor()\n",
    "Rr2.fit(x_train,y_train)"
   ]
  },
  {
   "cell_type": "code",
   "execution_count": 53,
   "id": "bf2aabfd",
   "metadata": {},
   "outputs": [],
   "source": [
    "y_pred=Rr2.predict(x_test)"
   ]
  },
  {
   "cell_type": "code",
   "execution_count": 54,
   "id": "f8bc83b8",
   "metadata": {},
   "outputs": [
    {
     "data": {
      "text/plain": [
       "0.00647141459765219"
      ]
     },
     "execution_count": 54,
     "metadata": {},
     "output_type": "execute_result"
    }
   ],
   "source": [
    "from sklearn.metrics import mean_squared_error\n",
    "mean_squared_error(y_test,y_pred)"
   ]
  },
  {
   "cell_type": "code",
   "execution_count": null,
   "id": "b7ea7701",
   "metadata": {},
   "outputs": [],
   "source": []
  },
  {
   "cell_type": "code",
   "execution_count": 25,
   "id": "6609e6d4",
   "metadata": {},
   "outputs": [],
   "source": [
    "from sklearn.model_selection import train_test_split\n",
    "y=radius[['SEA']]\n",
    "x=radius[['r/l']]"
   ]
  },
  {
   "cell_type": "code",
   "execution_count": 26,
   "id": "cd7c1848",
   "metadata": {},
   "outputs": [],
   "source": [
    "x_train,x_test,y_train,y_test=train_test_split(x,y,test_size=0.3,random_state=3)"
   ]
  },
  {
   "cell_type": "code",
   "execution_count": 27,
   "id": "77138bdb",
   "metadata": {},
   "outputs": [
    {
     "name": "stderr",
     "output_type": "stream",
     "text": [
      "C:\\Users\\hp\\AppData\\Local\\Temp\\ipykernel_16896\\1008314063.py:3: DataConversionWarning: A column-vector y was passed when a 1d array was expected. Please change the shape of y to (n_samples,), for example using ravel().\n",
      "  Rr3.fit(x_train,y_train)\n"
     ]
    },
    {
     "data": {
      "text/plain": [
       "RandomForestRegressor()"
      ]
     },
     "execution_count": 27,
     "metadata": {},
     "output_type": "execute_result"
    }
   ],
   "source": [
    "from sklearn.ensemble import RandomForestRegressor\n",
    "Rr3=RandomForestRegressor()\n",
    "Rr3.fit(x_train,y_train)"
   ]
  },
  {
   "cell_type": "code",
   "execution_count": 28,
   "id": "1bfb98f6",
   "metadata": {},
   "outputs": [],
   "source": [
    "y_pred=Rr3.predict(x_test)"
   ]
  },
  {
   "cell_type": "code",
   "execution_count": 35,
   "id": "b89ca006",
   "metadata": {},
   "outputs": [
    {
     "data": {
      "text/plain": [
       "7.639512994284385"
      ]
     },
     "execution_count": 35,
     "metadata": {},
     "output_type": "execute_result"
    }
   ],
   "source": [
    "from sklearn.metrics import mean_squared_error\n",
    "mean_squared_error(y_test,y_pred)"
   ]
  },
  {
   "cell_type": "code",
   "execution_count": 48,
   "id": "0f51e440",
   "metadata": {},
   "outputs": [
    {
     "data": {
      "text/plain": [
       "array([13.78867039, 13.08083663, 13.61704015, 13.48604934, 13.6617803 ,\n",
       "       10.96104702, 12.3918588 , 12.70596426, 13.27603363, 13.51502975,\n",
       "       14.80858149, 12.58783251, 15.30362206, 15.10682887, 11.71113006,\n",
       "       11.3877979 , 13.64374207, 11.71113006, 15.00696259, 13.51502975,\n",
       "       12.43369564, 10.96104702, 13.27603363, 13.64374207, 12.64199652,\n",
       "       14.27220235, 14.5793279 , 15.10682887, 15.70852928, 12.95222816,\n",
       "       11.40981336, 11.87586751, 12.52239961, 14.35722785, 11.45259335,\n",
       "       14.82248661, 13.08083663, 13.47493747, 10.96104702, 15.70852928,\n",
       "       14.04032449, 13.51502975, 13.53370106, 11.3877979 , 13.01722528,\n",
       "       13.01722528, 11.87586751, 13.88116476, 12.15487754, 13.88116476,\n",
       "       12.88401509])"
      ]
     },
     "execution_count": 48,
     "metadata": {},
     "output_type": "execute_result"
    }
   ],
   "source": [
    "y_test\n",
    "y_pred"
   ]
  },
  {
   "cell_type": "code",
   "execution_count": 49,
   "id": "b9ff588d",
   "metadata": {},
   "outputs": [
    {
     "data": {
      "text/html": [
       "<div>\n",
       "<style scoped>\n",
       "    .dataframe tbody tr th:only-of-type {\n",
       "        vertical-align: middle;\n",
       "    }\n",
       "\n",
       "    .dataframe tbody tr th {\n",
       "        vertical-align: top;\n",
       "    }\n",
       "\n",
       "    .dataframe thead th {\n",
       "        text-align: right;\n",
       "    }\n",
       "</style>\n",
       "<table border=\"1\" class=\"dataframe\">\n",
       "  <thead>\n",
       "    <tr style=\"text-align: right;\">\n",
       "      <th></th>\n",
       "      <th>SEA</th>\n",
       "    </tr>\n",
       "  </thead>\n",
       "  <tbody>\n",
       "    <tr>\n",
       "      <th>98</th>\n",
       "      <td>14.333500</td>\n",
       "    </tr>\n",
       "    <tr>\n",
       "      <th>86</th>\n",
       "      <td>13.490928</td>\n",
       "    </tr>\n",
       "    <tr>\n",
       "      <th>143</th>\n",
       "      <td>10.991242</td>\n",
       "    </tr>\n",
       "    <tr>\n",
       "      <th>15</th>\n",
       "      <td>11.008788</td>\n",
       "    </tr>\n",
       "    <tr>\n",
       "      <th>42</th>\n",
       "      <td>11.742361</td>\n",
       "    </tr>\n",
       "    <tr>\n",
       "      <th>38</th>\n",
       "      <td>11.332145</td>\n",
       "    </tr>\n",
       "    <tr>\n",
       "      <th>41</th>\n",
       "      <td>10.638403</td>\n",
       "    </tr>\n",
       "    <tr>\n",
       "      <th>83</th>\n",
       "      <td>12.453549</td>\n",
       "    </tr>\n",
       "    <tr>\n",
       "      <th>155</th>\n",
       "      <td>13.573023</td>\n",
       "    </tr>\n",
       "    <tr>\n",
       "      <th>64</th>\n",
       "      <td>16.003078</td>\n",
       "    </tr>\n",
       "    <tr>\n",
       "      <th>6</th>\n",
       "      <td>11.487441</td>\n",
       "    </tr>\n",
       "    <tr>\n",
       "      <th>76</th>\n",
       "      <td>13.042396</td>\n",
       "    </tr>\n",
       "    <tr>\n",
       "      <th>25</th>\n",
       "      <td>12.018625</td>\n",
       "    </tr>\n",
       "    <tr>\n",
       "      <th>3</th>\n",
       "      <td>10.215014</td>\n",
       "    </tr>\n",
       "    <tr>\n",
       "      <th>89</th>\n",
       "      <td>14.262824</td>\n",
       "    </tr>\n",
       "    <tr>\n",
       "      <th>117</th>\n",
       "      <td>10.639627</td>\n",
       "    </tr>\n",
       "    <tr>\n",
       "      <th>134</th>\n",
       "      <td>15.215372</td>\n",
       "    </tr>\n",
       "    <tr>\n",
       "      <th>159</th>\n",
       "      <td>19.661263</td>\n",
       "    </tr>\n",
       "    <tr>\n",
       "      <th>47</th>\n",
       "      <td>8.440580</td>\n",
       "    </tr>\n",
       "    <tr>\n",
       "      <th>114</th>\n",
       "      <td>13.763938</td>\n",
       "    </tr>\n",
       "    <tr>\n",
       "      <th>78</th>\n",
       "      <td>14.329171</td>\n",
       "    </tr>\n",
       "    <tr>\n",
       "      <th>88</th>\n",
       "      <td>14.372973</td>\n",
       "    </tr>\n",
       "    <tr>\n",
       "      <th>135</th>\n",
       "      <td>13.602440</td>\n",
       "    </tr>\n",
       "    <tr>\n",
       "      <th>34</th>\n",
       "      <td>10.543938</td>\n",
       "    </tr>\n",
       "    <tr>\n",
       "      <th>121</th>\n",
       "      <td>10.598336</td>\n",
       "    </tr>\n",
       "    <tr>\n",
       "      <th>144</th>\n",
       "      <td>11.657621</td>\n",
       "    </tr>\n",
       "    <tr>\n",
       "      <th>4</th>\n",
       "      <td>12.069739</td>\n",
       "    </tr>\n",
       "    <tr>\n",
       "      <th>53</th>\n",
       "      <td>14.129346</td>\n",
       "    </tr>\n",
       "    <tr>\n",
       "      <th>40</th>\n",
       "      <td>11.136279</td>\n",
       "    </tr>\n",
       "    <tr>\n",
       "      <th>102</th>\n",
       "      <td>14.039694</td>\n",
       "    </tr>\n",
       "    <tr>\n",
       "      <th>130</th>\n",
       "      <td>10.627306</td>\n",
       "    </tr>\n",
       "    <tr>\n",
       "      <th>101</th>\n",
       "      <td>14.339944</td>\n",
       "    </tr>\n",
       "    <tr>\n",
       "      <th>57</th>\n",
       "      <td>14.760371</td>\n",
       "    </tr>\n",
       "    <tr>\n",
       "      <th>31</th>\n",
       "      <td>12.140672</td>\n",
       "    </tr>\n",
       "    <tr>\n",
       "      <th>72</th>\n",
       "      <td>14.107050</td>\n",
       "    </tr>\n",
       "    <tr>\n",
       "      <th>5</th>\n",
       "      <td>10.471215</td>\n",
       "    </tr>\n",
       "    <tr>\n",
       "      <th>156</th>\n",
       "      <td>13.573023</td>\n",
       "    </tr>\n",
       "    <tr>\n",
       "      <th>146</th>\n",
       "      <td>11.630564</td>\n",
       "    </tr>\n",
       "    <tr>\n",
       "      <th>158</th>\n",
       "      <td>11.004285</td>\n",
       "    </tr>\n",
       "    <tr>\n",
       "      <th>140</th>\n",
       "      <td>10.124481</td>\n",
       "    </tr>\n",
       "    <tr>\n",
       "      <th>12</th>\n",
       "      <td>11.995264</td>\n",
       "    </tr>\n",
       "    <tr>\n",
       "      <th>14</th>\n",
       "      <td>11.377283</td>\n",
       "    </tr>\n",
       "    <tr>\n",
       "      <th>24</th>\n",
       "      <td>10.889708</td>\n",
       "    </tr>\n",
       "    <tr>\n",
       "      <th>67</th>\n",
       "      <td>15.699219</td>\n",
       "    </tr>\n",
       "    <tr>\n",
       "      <th>58</th>\n",
       "      <td>14.324187</td>\n",
       "    </tr>\n",
       "    <tr>\n",
       "      <th>8</th>\n",
       "      <td>11.309980</td>\n",
       "    </tr>\n",
       "    <tr>\n",
       "      <th>51</th>\n",
       "      <td>13.320908</td>\n",
       "    </tr>\n",
       "    <tr>\n",
       "      <th>27</th>\n",
       "      <td>11.351112</td>\n",
       "    </tr>\n",
       "    <tr>\n",
       "      <th>70</th>\n",
       "      <td>14.890609</td>\n",
       "    </tr>\n",
       "    <tr>\n",
       "      <th>77</th>\n",
       "      <td>15.706311</td>\n",
       "    </tr>\n",
       "    <tr>\n",
       "      <th>82</th>\n",
       "      <td>13.032612</td>\n",
       "    </tr>\n",
       "  </tbody>\n",
       "</table>\n",
       "</div>"
      ],
      "text/plain": [
       "           SEA\n",
       "98   14.333500\n",
       "86   13.490928\n",
       "143  10.991242\n",
       "15   11.008788\n",
       "42   11.742361\n",
       "38   11.332145\n",
       "41   10.638403\n",
       "83   12.453549\n",
       "155  13.573023\n",
       "64   16.003078\n",
       "6    11.487441\n",
       "76   13.042396\n",
       "25   12.018625\n",
       "3    10.215014\n",
       "89   14.262824\n",
       "117  10.639627\n",
       "134  15.215372\n",
       "159  19.661263\n",
       "47    8.440580\n",
       "114  13.763938\n",
       "78   14.329171\n",
       "88   14.372973\n",
       "135  13.602440\n",
       "34   10.543938\n",
       "121  10.598336\n",
       "144  11.657621\n",
       "4    12.069739\n",
       "53   14.129346\n",
       "40   11.136279\n",
       "102  14.039694\n",
       "130  10.627306\n",
       "101  14.339944\n",
       "57   14.760371\n",
       "31   12.140672\n",
       "72   14.107050\n",
       "5    10.471215\n",
       "156  13.573023\n",
       "146  11.630564\n",
       "158  11.004285\n",
       "140  10.124481\n",
       "12   11.995264\n",
       "14   11.377283\n",
       "24   10.889708\n",
       "67   15.699219\n",
       "58   14.324187\n",
       "8    11.309980\n",
       "51   13.320908\n",
       "27   11.351112\n",
       "70   14.890609\n",
       "77   15.706311\n",
       "82   13.032612"
      ]
     },
     "execution_count": 49,
     "metadata": {},
     "output_type": "execute_result"
    }
   ],
   "source": [
    "y_test"
   ]
  },
  {
   "cell_type": "code",
   "execution_count": null,
   "id": "294a5662",
   "metadata": {},
   "outputs": [],
   "source": []
  }
 ],
 "metadata": {
  "kernelspec": {
   "display_name": "Python 3 (ipykernel)",
   "language": "python",
   "name": "python3"
  },
  "language_info": {
   "codemirror_mode": {
    "name": "ipython",
    "version": 3
   },
   "file_extension": ".py",
   "mimetype": "text/x-python",
   "name": "python",
   "nbconvert_exporter": "python",
   "pygments_lexer": "ipython3",
   "version": "3.10.4"
  }
 },
 "nbformat": 4,
 "nbformat_minor": 5
}
