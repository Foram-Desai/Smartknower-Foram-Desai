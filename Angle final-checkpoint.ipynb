{
 "cells": [
  {
   "cell_type": "code",
   "execution_count": 124,
   "id": "149aea07",
   "metadata": {},
   "outputs": [],
   "source": [
    "import pandas as pd"
   ]
  },
  {
   "cell_type": "code",
   "execution_count": 125,
   "id": "2c8b22fe",
   "metadata": {},
   "outputs": [],
   "source": [
    "angle=pd.read_csv('angle.csv')"
   ]
  },
  {
   "cell_type": "code",
   "execution_count": 126,
   "id": "311b8822",
   "metadata": {},
   "outputs": [
    {
     "data": {
      "text/html": [
       "<div>\n",
       "<style scoped>\n",
       "    .dataframe tbody tr th:only-of-type {\n",
       "        vertical-align: middle;\n",
       "    }\n",
       "\n",
       "    .dataframe tbody tr th {\n",
       "        vertical-align: top;\n",
       "    }\n",
       "\n",
       "    .dataframe thead th {\n",
       "        text-align: right;\n",
       "    }\n",
       "</style>\n",
       "<table border=\"1\" class=\"dataframe\">\n",
       "  <thead>\n",
       "    <tr style=\"text-align: right;\">\n",
       "      <th></th>\n",
       "      <th>NAME</th>\n",
       "      <th>ANGLE</th>\n",
       "      <th>L</th>\n",
       "      <th>H</th>\n",
       "      <th>compressive strength MPa</th>\n",
       "      <th>compressive stiffness N/mm</th>\n",
       "      <th>SEA J/kg</th>\n",
       "      <th>strain energy mJ</th>\n",
       "      <th>mass kg</th>\n",
       "      <th>factor of safety</th>\n",
       "      <th>force</th>\n",
       "      <th>deformation (mm)</th>\n",
       "      <th>Volume</th>\n",
       "      <th>CS N/mm</th>\n",
       "    </tr>\n",
       "  </thead>\n",
       "  <tbody>\n",
       "    <tr>\n",
       "      <th>0</th>\n",
       "      <td>Bow Tie</td>\n",
       "      <td>80.0</td>\n",
       "      <td>7.0</td>\n",
       "      <td>15.0</td>\n",
       "      <td>14.092</td>\n",
       "      <td>57.852292</td>\n",
       "      <td>2.493823</td>\n",
       "      <td>14.798</td>\n",
       "      <td>0.005934</td>\n",
       "      <td>1.9470</td>\n",
       "      <td>50.0</td>\n",
       "      <td>0.86427</td>\n",
       "      <td>5761.03</td>\n",
       "      <td>0.017285</td>\n",
       "    </tr>\n",
       "    <tr>\n",
       "      <th>1</th>\n",
       "      <td>Bow Tie</td>\n",
       "      <td>79.0</td>\n",
       "      <td>7.0</td>\n",
       "      <td>15.0</td>\n",
       "      <td>14.094</td>\n",
       "      <td>57.248194</td>\n",
       "      <td>2.498624</td>\n",
       "      <td>14.833</td>\n",
       "      <td>0.005936</td>\n",
       "      <td>1.9470</td>\n",
       "      <td>50.0</td>\n",
       "      <td>0.87339</td>\n",
       "      <td>5763.56</td>\n",
       "      <td>0.017468</td>\n",
       "    </tr>\n",
       "    <tr>\n",
       "      <th>2</th>\n",
       "      <td>Bow Tie</td>\n",
       "      <td>78.0</td>\n",
       "      <td>7.0</td>\n",
       "      <td>15.0</td>\n",
       "      <td>14.084</td>\n",
       "      <td>58.154412</td>\n",
       "      <td>2.467018</td>\n",
       "      <td>14.652</td>\n",
       "      <td>0.005939</td>\n",
       "      <td>1.9480</td>\n",
       "      <td>50.0</td>\n",
       "      <td>0.85978</td>\n",
       "      <td>5766.17</td>\n",
       "      <td>0.017196</td>\n",
       "    </tr>\n",
       "    <tr>\n",
       "      <th>3</th>\n",
       "      <td>Bow Tie</td>\n",
       "      <td>77.0</td>\n",
       "      <td>7.0</td>\n",
       "      <td>15.0</td>\n",
       "      <td>14.066</td>\n",
       "      <td>59.167396</td>\n",
       "      <td>2.433382</td>\n",
       "      <td>14.459</td>\n",
       "      <td>0.005942</td>\n",
       "      <td>1.9508</td>\n",
       "      <td>50.0</td>\n",
       "      <td>0.84506</td>\n",
       "      <td>5768.87</td>\n",
       "      <td>0.016901</td>\n",
       "    </tr>\n",
       "    <tr>\n",
       "      <th>4</th>\n",
       "      <td>Bow Tie</td>\n",
       "      <td>76.0</td>\n",
       "      <td>7.0</td>\n",
       "      <td>15.0</td>\n",
       "      <td>14.035</td>\n",
       "      <td>59.977209</td>\n",
       "      <td>2.404951</td>\n",
       "      <td>14.297</td>\n",
       "      <td>0.005945</td>\n",
       "      <td>1.9551</td>\n",
       "      <td>50.0</td>\n",
       "      <td>0.83365</td>\n",
       "      <td>5771.67</td>\n",
       "      <td>0.016673</td>\n",
       "    </tr>\n",
       "  </tbody>\n",
       "</table>\n",
       "</div>"
      ],
      "text/plain": [
       "      NAME  ANGLE    L     H  compressive strength MPa  \\\n",
       "0  Bow Tie   80.0  7.0  15.0                    14.092   \n",
       "1  Bow Tie   79.0  7.0  15.0                    14.094   \n",
       "2  Bow Tie   78.0  7.0  15.0                    14.084   \n",
       "3  Bow Tie   77.0  7.0  15.0                    14.066   \n",
       "4  Bow Tie   76.0  7.0  15.0                    14.035   \n",
       "\n",
       "   compressive stiffness N/mm  SEA J/kg  strain energy mJ   mass kg  \\\n",
       "0                   57.852292  2.493823            14.798  0.005934   \n",
       "1                   57.248194  2.498624            14.833  0.005936   \n",
       "2                   58.154412  2.467018            14.652  0.005939   \n",
       "3                   59.167396  2.433382            14.459  0.005942   \n",
       "4                   59.977209  2.404951            14.297  0.005945   \n",
       "\n",
       "   factor of safety  force  deformation (mm)   Volume   CS N/mm  \n",
       "0            1.9470   50.0           0.86427  5761.03  0.017285  \n",
       "1            1.9470   50.0           0.87339  5763.56  0.017468  \n",
       "2            1.9480   50.0           0.85978  5766.17  0.017196  \n",
       "3            1.9508   50.0           0.84506  5768.87  0.016901  \n",
       "4            1.9551   50.0           0.83365  5771.67  0.016673  "
      ]
     },
     "execution_count": 126,
     "metadata": {},
     "output_type": "execute_result"
    }
   ],
   "source": [
    "angle.head()"
   ]
  },
  {
   "cell_type": "code",
   "execution_count": 127,
   "id": "5b498ea0",
   "metadata": {},
   "outputs": [],
   "source": [
    "from matplotlib import pyplot as plt"
   ]
  },
  {
   "cell_type": "code",
   "execution_count": 128,
   "id": "df3646ae",
   "metadata": {},
   "outputs": [],
   "source": [
    "import seaborn as sns"
   ]
  },
  {
   "cell_type": "code",
   "execution_count": 129,
   "id": "1343dba8",
   "metadata": {},
   "outputs": [
    {
     "data": {
      "text/plain": [
       "<AxesSubplot:xlabel='ANGLE', ylabel='CS N/mm'>"
      ]
     },
     "execution_count": 129,
     "metadata": {},
     "output_type": "execute_result"
    },
    {
     "data": {
      "image/png": "[encoded data removed]",
      "text/plain": [
       "<Figure size 432x288 with 1 Axes>"
      ]
     },
     "metadata": {
      "needs_background": "light"
     },
     "output_type": "display_data"
    }
   ],
   "source": [
    "sns.scatterplot(x='ANGLE',y='CS N/mm', data=angle)"
   ]
  },
  {
   "cell_type": "code",
   "execution_count": 130,
   "id": "457e1c22",
   "metadata": {},
   "outputs": [
    {
     "data": {
      "text/plain": [
       "<AxesSubplot:xlabel='ANGLE', ylabel='compressive strength MPa'>"
      ]
     },
     "execution_count": 130,
     "metadata": {},
     "output_type": "execute_result"
    },
    {
     "data": {
      "image/png": "[encoded data removed]",
      "text/plain": [
       "<Figure size 432x288 with 1 Axes>"
      ]
     },
     "metadata": {
      "needs_background": "light"
     },
     "output_type": "display_data"
    }
   ],
   "source": [
    "sns.scatterplot(x='ANGLE',y='compressive strength MPa', data=angle)"
   ]
  },
  {
   "cell_type": "code",
   "execution_count": 131,
   "id": "130b9425",
   "metadata": {},
   "outputs": [
    {
     "data": {
      "text/plain": [
       "<AxesSubplot:xlabel='ANGLE', ylabel='SEA J/kg'>"
      ]
     },
     "execution_count": 131,
     "metadata": {},
     "output_type": "execute_result"
    },
    {
     "data": {
      "image/png": "[encoded data removed]",
      "text/plain": [
       "<Figure size 432x288 with 1 Axes>"
      ]
     },
     "metadata": {
      "needs_background": "light"
     },
     "output_type": "display_data"
    }
   ],
   "source": [
    "sns.scatterplot(x='ANGLE',y='SEA J/kg', data=angle)"
   ]
  },
  {
   "cell_type": "code",
   "execution_count": 132,
   "id": "8bb10177",
   "metadata": {},
   "outputs": [],
   "source": [
    "plt.show()"
   ]
  },
  {
   "cell_type": "code",
   "execution_count": 135,
   "id": "b82ab29d",
   "metadata": {},
   "outputs": [],
   "source": [
    "from sklearn.model_selection import train_test_split"
   ]
  },
  {
   "cell_type": "code",
   "execution_count": 136,
   "id": "a32473be",
   "metadata": {},
   "outputs": [],
   "source": [
    "y=angle[['compressive strength MPa']]\n",
    "x=angle[['ANGLE','L','H']]"
   ]
  },
  {
   "cell_type": "code",
   "execution_count": 137,
   "id": "c70e97cc",
   "metadata": {},
   "outputs": [],
   "source": [
    "x_train,x_test,y_train,y_test=train_test_split(x,y,test_size=0.3)"
   ]
  },
  {
   "cell_type": "code",
   "execution_count": 138,
   "id": "5f69feb4",
   "metadata": {},
   "outputs": [],
   "source": [
    "from sklearn.ensemble import RandomForestRegressor"
   ]
  },
  {
   "cell_type": "code",
   "execution_count": 139,
   "id": "7dba9635",
   "metadata": {},
   "outputs": [
    {
     "name": "stderr",
     "output_type": "stream",
     "text": [
      "C:\\Users\\hp\\AppData\\Local\\Temp\\ipykernel_4568\\1225712051.py:2: DataConversionWarning: A column-vector y was passed when a 1d array was expected. Please change the shape of y to (n_samples,), for example using ravel().\n",
      "  Rr.fit(x_train,y_train)\n"
     ]
    },
    {
     "data": {
      "text/plain": [
       "RandomForestRegressor()"
      ]
     },
     "execution_count": 139,
     "metadata": {},
     "output_type": "execute_result"
    }
   ],
   "source": [
    "Rr=RandomForestRegressor()\n",
    "Rr.fit(x_train,y_train)"
   ]
  },
  {
   "cell_type": "code",
   "execution_count": 140,
   "id": "29a2888d",
   "metadata": {},
   "outputs": [],
   "source": [
    "y_pred=Rr.predict(x_test)"
   ]
  },
  {
   "cell_type": "code",
   "execution_count": 144,
   "id": "91a1d58b",
   "metadata": {},
   "outputs": [],
   "source": [
    "from sklearn.metrics import mean_squared_error"
   ]
  },
  {
   "cell_type": "code",
   "execution_count": 145,
   "id": "ae9f0aa2",
   "metadata": {},
   "outputs": [
    {
     "data": {
      "text/plain": [
       "0.10066442089999894"
      ]
     },
     "execution_count": 145,
     "metadata": {},
     "output_type": "execute_result"
    }
   ],
   "source": [
    "mean_squared_error(y_test,y_pred)"
   ]
  },
  {
   "cell_type": "code",
   "execution_count": 146,
   "id": "613a89f0",
   "metadata": {},
   "outputs": [],
   "source": [
    "from sklearn.model_selection import train_test_split\n",
    "y=angle[['CS N/mm']]\n",
    "x=angle[['ANGLE','L']]\n",
    "x_train,x_test,y_train,y_test=train_test_split(x,y,test_size=0.3)"
   ]
  },
  {
   "cell_type": "code",
   "execution_count": 147,
   "id": "ce7c5cd5",
   "metadata": {},
   "outputs": [],
   "source": [
    "from sklearn.linear_model import LinearRegression"
   ]
  },
  {
   "cell_type": "code",
   "execution_count": 148,
   "id": "4d05c7b2",
   "metadata": {},
   "outputs": [
    {
     "data": {
      "text/plain": [
       "LinearRegression()"
      ]
     },
     "execution_count": 148,
     "metadata": {},
     "output_type": "execute_result"
    }
   ],
   "source": [
    "Rr1=LinearRegression()\n",
    "Rr1.fit(x_train,y_train)"
   ]
  },
  {
   "cell_type": "code",
   "execution_count": 149,
   "id": "b2d3bd09",
   "metadata": {},
   "outputs": [],
   "source": [
    "y_pred=Rr1.predict(x_test)"
   ]
  },
  {
   "cell_type": "code",
   "execution_count": 150,
   "id": "f1331e9e",
   "metadata": {},
   "outputs": [],
   "source": [
    "from sklearn.metrics import mean_squared_error"
   ]
  },
  {
   "cell_type": "code",
   "execution_count": 151,
   "id": "ea046d42",
   "metadata": {},
   "outputs": [
    {
     "data": {
      "text/plain": [
       "0.00037217847616653407"
      ]
     },
     "execution_count": 151,
     "metadata": {},
     "output_type": "execute_result"
    }
   ],
   "source": [
    "mean_squared_error(y_test,y_pred)"
   ]
  },
  {
   "cell_type": "code",
   "execution_count": 157,
   "id": "559bf618",
   "metadata": {},
   "outputs": [],
   "source": [
    "from sklearn.model_selection import train_test_split\n",
    "y=angle[['SEA J/kg']]\n",
    "x=angle[['ANGLE','L']]\n",
    "x_train,x_test,y_train,y_test=train_test_split(x,y,test_size=0.3)"
   ]
  },
  {
   "cell_type": "code",
   "execution_count": 158,
   "id": "80ad6132",
   "metadata": {},
   "outputs": [
    {
     "name": "stderr",
     "output_type": "stream",
     "text": [
      "C:\\Users\\hp\\AppData\\Local\\Temp\\ipykernel_4568\\604120443.py:3: DataConversionWarning: A column-vector y was passed when a 1d array was expected. Please change the shape of y to (n_samples,), for example using ravel().\n",
      "  lr2.fit(x_train,y_train)\n"
     ]
    },
    {
     "data": {
      "text/plain": [
       "RandomForestRegressor()"
      ]
     },
     "execution_count": 158,
     "metadata": {},
     "output_type": "execute_result"
    }
   ],
   "source": [
    "from sklearn.ensemble import RandomForestRegressor\n",
    "lr2=RandomForestRegressor()\n",
    "lr2.fit(x_train,y_train)"
   ]
  },
  {
   "cell_type": "code",
   "execution_count": 159,
   "id": "bcd65081",
   "metadata": {},
   "outputs": [],
   "source": [
    "y_pred=lr2.predict(x_test)"
   ]
  },
  {
   "cell_type": "code",
   "execution_count": 160,
   "id": "a71681af",
   "metadata": {},
   "outputs": [
    {
     "data": {
      "text/plain": [
       "291.13107928246495"
      ]
     },
     "execution_count": 160,
     "metadata": {},
     "output_type": "execute_result"
    }
   ],
   "source": [
    "from sklearn.metrics import mean_squared_error\n",
    "mean_squared_error(y_test,y_pred)"
   ]
  },
  {
   "cell_type": "code",
   "execution_count": null,
   "id": "72abbe5c",
   "metadata": {},
   "outputs": [],
   "source": []
  },
  {
   "cell_type": "code",
   "execution_count": null,
   "id": "bfad4f8e",
   "metadata": {},
   "outputs": [],
   "source": []
  }
 ],
 "metadata": {
  "kernelspec": {
   "display_name": "Python 3 (ipykernel)",
   "language": "python",
   "name": "python3"
  },
  "language_info": {
   "codemirror_mode": {
    "name": "ipython",
    "version": 3
   },
   "file_extension": ".py",
   "mimetype": "text/x-python",
   "name": "python",
   "nbconvert_exporter": "python",
   "pygments_lexer": "ipython3",
   "version": "3.10.4"
  }
 },
 "nbformat": 4,
 "nbformat_minor": 5
}
