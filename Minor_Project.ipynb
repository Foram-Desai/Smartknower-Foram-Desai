{
  "nbformat": 4,
  "nbformat_minor": 0,
  "metadata": {
    "colab": {
      "name": "Minor Project.ipynb",
      "provenance": [],
      "mount_file_id": "1FWefI8zhTI_ADnZRoqX4F4pkFOhvhEv0",
      "authorship_tag": "ABX9TyOLgrSqO4j0cn5eeR24oCyU",
      "include_colab_link": true
    },
    "kernelspec": {
      "name": "python3",
      "display_name": "Python 3"
    }
  },
  "cells": [
    {
      "cell_type": "markdown",
      "metadata": {
        "id": "view-in-github",
        "colab_type": "text"
      },
      "source": [
        "<a href=\"https://colab.research.google.com/github/Foram-Desai/Smartknower-Foram-Desai/blob/master/Minor_Project.ipynb\" target=\"_parent\"><img src=\"https://colab.research.google.com/assets/colab-badge.svg\" alt=\"Open In Colab\"/></a>"
      ]
    },
    {
      "cell_type": "code",
      "metadata": {
        "id": "kJ-y0EDISPRV",
        "colab_type": "code",
        "colab": {
          "base_uri": "https://localhost:8080/",
          "height": 195
        },
        "outputId": "6ddd1dd6-39b3-4423-deeb-4cace03ac7e4"
      },
      "source": [
        "import pandas as pd\n",
        "import numpy as np\n",
        "import matplotlib.pyplot as plt\n",
        "import seaborn as sns\n",
        "\n",
        "df = pd.read_csv('/content/drive/My Drive/Python Smartknower/CAR DETAILS FROM CAR DEKHO.csv')\n",
        "df.head()"
      ],
      "execution_count": 595,
      "outputs": [
        {
          "output_type": "execute_result",
          "data": {
            "text/html": [
              "<div>\n",
              "<style scoped>\n",
              "    .dataframe tbody tr th:only-of-type {\n",
              "        vertical-align: middle;\n",
              "    }\n",
              "\n",
              "    .dataframe tbody tr th {\n",
              "        vertical-align: top;\n",
              "    }\n",
              "\n",
              "    .dataframe thead th {\n",
              "        text-align: right;\n",
              "    }\n",
              "</style>\n",
              "<table border=\"1\" class=\"dataframe\">\n",
              "  <thead>\n",
              "    <tr style=\"text-align: right;\">\n",
              "      <th></th>\n",
              "      <th>name</th>\n",
              "      <th>year</th>\n",
              "      <th>selling_price</th>\n",
              "      <th>km_driven</th>\n",
              "      <th>fuel</th>\n",
              "      <th>seller_type</th>\n",
              "      <th>transmission</th>\n",
              "      <th>owner</th>\n",
              "    </tr>\n",
              "  </thead>\n",
              "  <tbody>\n",
              "    <tr>\n",
              "      <th>0</th>\n",
              "      <td>Maruti 800 AC</td>\n",
              "      <td>2007</td>\n",
              "      <td>60000</td>\n",
              "      <td>70000</td>\n",
              "      <td>Petrol</td>\n",
              "      <td>Individual</td>\n",
              "      <td>Manual</td>\n",
              "      <td>First Owner</td>\n",
              "    </tr>\n",
              "    <tr>\n",
              "      <th>1</th>\n",
              "      <td>Maruti Wagon R LXI Minor</td>\n",
              "      <td>2007</td>\n",
              "      <td>135000</td>\n",
              "      <td>50000</td>\n",
              "      <td>Petrol</td>\n",
              "      <td>Individual</td>\n",
              "      <td>Manual</td>\n",
              "      <td>First Owner</td>\n",
              "    </tr>\n",
              "    <tr>\n",
              "      <th>2</th>\n",
              "      <td>Hyundai Verna 1.6 SX</td>\n",
              "      <td>2012</td>\n",
              "      <td>600000</td>\n",
              "      <td>100000</td>\n",
              "      <td>Diesel</td>\n",
              "      <td>Individual</td>\n",
              "      <td>Manual</td>\n",
              "      <td>First Owner</td>\n",
              "    </tr>\n",
              "    <tr>\n",
              "      <th>3</th>\n",
              "      <td>Datsun RediGO T Option</td>\n",
              "      <td>2017</td>\n",
              "      <td>250000</td>\n",
              "      <td>46000</td>\n",
              "      <td>Petrol</td>\n",
              "      <td>Individual</td>\n",
              "      <td>Manual</td>\n",
              "      <td>First Owner</td>\n",
              "    </tr>\n",
              "    <tr>\n",
              "      <th>4</th>\n",
              "      <td>Honda Amaze VX i-DTEC</td>\n",
              "      <td>2014</td>\n",
              "      <td>450000</td>\n",
              "      <td>141000</td>\n",
              "      <td>Diesel</td>\n",
              "      <td>Individual</td>\n",
              "      <td>Manual</td>\n",
              "      <td>Second Owner</td>\n",
              "    </tr>\n",
              "  </tbody>\n",
              "</table>\n",
              "</div>"
            ],
            "text/plain": [
              "                       name  year  ...  transmission         owner\n",
              "0             Maruti 800 AC  2007  ...        Manual   First Owner\n",
              "1  Maruti Wagon R LXI Minor  2007  ...        Manual   First Owner\n",
              "2      Hyundai Verna 1.6 SX  2012  ...        Manual   First Owner\n",
              "3    Datsun RediGO T Option  2017  ...        Manual   First Owner\n",
              "4     Honda Amaze VX i-DTEC  2014  ...        Manual  Second Owner\n",
              "\n",
              "[5 rows x 8 columns]"
            ]
          },
          "metadata": {
            "tags": []
          },
          "execution_count": 595
        }
      ]
    },
    {
      "cell_type": "code",
      "metadata": {
        "id": "LO8bFfm3c2FV",
        "colab_type": "code",
        "colab": {
          "base_uri": "https://localhost:8080/",
          "height": 34
        },
        "outputId": "4327d363-1043-4191-b0c0-4612733e9e08"
      },
      "source": [
        "df.shape"
      ],
      "execution_count": 596,
      "outputs": [
        {
          "output_type": "execute_result",
          "data": {
            "text/plain": [
              "(4340, 8)"
            ]
          },
          "metadata": {
            "tags": []
          },
          "execution_count": 596
        }
      ]
    },
    {
      "cell_type": "code",
      "metadata": {
        "id": "iEDuJalS98aG",
        "colab_type": "code",
        "colab": {
          "base_uri": "https://localhost:8080/",
          "height": 269
        },
        "outputId": "cc53b453-e02c-4346-ebf2-530f0c9da7d5"
      },
      "source": [
        "df.info()"
      ],
      "execution_count": 597,
      "outputs": [
        {
          "output_type": "stream",
          "text": [
            "<class 'pandas.core.frame.DataFrame'>\n",
            "RangeIndex: 4340 entries, 0 to 4339\n",
            "Data columns (total 8 columns):\n",
            " #   Column         Non-Null Count  Dtype \n",
            "---  ------         --------------  ----- \n",
            " 0   name           4340 non-null   object\n",
            " 1   year           4340 non-null   int64 \n",
            " 2   selling_price  4340 non-null   int64 \n",
            " 3   km_driven      4340 non-null   int64 \n",
            " 4   fuel           4340 non-null   object\n",
            " 5   seller_type    4340 non-null   object\n",
            " 6   transmission   4340 non-null   object\n",
            " 7   owner          4340 non-null   object\n",
            "dtypes: int64(3), object(5)\n",
            "memory usage: 271.4+ KB\n"
          ],
          "name": "stdout"
        }
      ]
    },
    {
      "cell_type": "code",
      "metadata": {
        "id": "muz9p4dodPr2",
        "colab_type": "code",
        "colab": {
          "base_uri": "https://localhost:8080/",
          "height": 67
        },
        "outputId": "1c3b57c4-15b8-4b22-cee3-82b36e72aaeb"
      },
      "source": [
        "df.columns"
      ],
      "execution_count": 598,
      "outputs": [
        {
          "output_type": "execute_result",
          "data": {
            "text/plain": [
              "Index(['name', 'year', 'selling_price', 'km_driven', 'fuel', 'seller_type',\n",
              "       'transmission', 'owner'],\n",
              "      dtype='object')"
            ]
          },
          "metadata": {
            "tags": []
          },
          "execution_count": 598
        }
      ]
    },
    {
      "cell_type": "code",
      "metadata": {
        "id": "JAa1FGAhe6E3",
        "colab_type": "code",
        "colab": {
          "base_uri": "https://localhost:8080/",
          "height": 84
        },
        "outputId": "21fc783f-f24e-42b4-b2bc-e5d644200bd1"
      },
      "source": [
        "df['name'].unique()"
      ],
      "execution_count": 599,
      "outputs": [
        {
          "output_type": "execute_result",
          "data": {
            "text/plain": [
              "array(['Maruti 800 AC', 'Maruti Wagon R LXI Minor',\n",
              "       'Hyundai Verna 1.6 SX', ..., 'Mahindra Verito 1.5 D6 BSIII',\n",
              "       'Toyota Innova 2.5 VX (Diesel) 8 Seater BS IV',\n",
              "       'Hyundai i20 Magna 1.4 CRDi'], dtype=object)"
            ]
          },
          "metadata": {
            "tags": []
          },
          "execution_count": 599
        }
      ]
    },
    {
      "cell_type": "code",
      "metadata": {
        "id": "aT8ld7F6eG5F",
        "colab_type": "code",
        "colab": {}
      },
      "source": [
        "x = df.iloc[:,1:3].values\n",
        "y = df.iloc[:,0].values"
      ],
      "execution_count": 600,
      "outputs": []
    },
    {
      "cell_type": "code",
      "metadata": {
        "id": "GvQVNt-l_RV1",
        "colab_type": "code",
        "colab": {
          "base_uri": "https://localhost:8080/",
          "height": 34
        },
        "outputId": "9b6c2427-3bee-4b7f-d603-66df4181142b"
      },
      "source": [
        "from sklearn.model_selection import train_test_split\n",
        "x_train,x_test,y_train,y_test = train_test_split(x,y, random_state = 35)\n",
        "\n",
        "from sklearn.neighbors import KNeighborsClassifier\n",
        "x_train.shape"
      ],
      "execution_count": 601,
      "outputs": [
        {
          "output_type": "execute_result",
          "data": {
            "text/plain": [
              "(3255, 2)"
            ]
          },
          "metadata": {
            "tags": []
          },
          "execution_count": 601
        }
      ]
    },
    {
      "cell_type": "code",
      "metadata": {
        "id": "IPmoNQWr_ei7",
        "colab_type": "code",
        "colab": {
          "base_uri": "https://localhost:8080/",
          "height": 34
        },
        "outputId": "b882e3e0-11a7-485f-fd93-c34b39876106"
      },
      "source": [
        "x_test.shape"
      ],
      "execution_count": 602,
      "outputs": [
        {
          "output_type": "execute_result",
          "data": {
            "text/plain": [
              "(1085, 2)"
            ]
          },
          "metadata": {
            "tags": []
          },
          "execution_count": 602
        }
      ]
    },
    {
      "cell_type": "code",
      "metadata": {
        "id": "Wi-UIN0KUe0e",
        "colab_type": "code",
        "colab": {
          "base_uri": "https://localhost:8080/",
          "height": 134
        },
        "outputId": "8a3b47a6-bd59-48bc-9e56-73c1022cdace"
      },
      "source": [
        "from sklearn.preprocessing import MinMaxScaler\n",
        "scaler = MinMaxScaler()\n",
        "x_train = scaler.fit_transform(x_train)\n",
        "x_test = scaler.transform(x_test)\n",
        "\n",
        "x_train"
      ],
      "execution_count": 603,
      "outputs": [
        {
          "output_type": "execute_result",
          "data": {
            "text/plain": [
              "array([[0.57142857, 0.02579399],\n",
              "       [1.        , 0.11353909],\n",
              "       [0.89285714, 0.09439063],\n",
              "       ...,\n",
              "       [0.89285714, 0.11015995],\n",
              "       [0.85714286, 0.05947285],\n",
              "       [0.92857143, 0.06285199]])"
            ]
          },
          "metadata": {
            "tags": []
          },
          "execution_count": 603
        }
      ]
    },
    {
      "cell_type": "code",
      "metadata": {
        "id": "8rJnP5L1_jAj",
        "colab_type": "code",
        "colab": {}
      },
      "source": [
        "model = KNeighborsClassifier(n_neighbors= 57)"
      ],
      "execution_count": 604,
      "outputs": []
    },
    {
      "cell_type": "code",
      "metadata": {
        "id": "xnkyG-asIBIw",
        "colab_type": "code",
        "colab": {
          "base_uri": "https://localhost:8080/",
          "height": 84
        },
        "outputId": "19387e57-6045-4c9c-9d93-03f8ae9e9bc8"
      },
      "source": [
        "model.fit(x_train,y_train)\n",
        "y_pred = model.predict(x_test)\n",
        "\n",
        "y_pred"
      ],
      "execution_count": 605,
      "outputs": [
        {
          "output_type": "execute_result",
          "data": {
            "text/plain": [
              "array(['Maruti Baleno Delta 1.2', 'Hyundai i10 Sportz 1.2',\n",
              "       'Maruti Alto LXi', ..., 'Hyundai Santro Xing GLS',\n",
              "       'Hyundai Verna CRDi 1.6 SX Option', 'Hyundai Creta 1.6 CRDi SX'],\n",
              "      dtype=object)"
            ]
          },
          "metadata": {
            "tags": []
          },
          "execution_count": 605
        }
      ]
    },
    {
      "cell_type": "code",
      "metadata": {
        "id": "1IBtsr-II1p-",
        "colab_type": "code",
        "colab": {
          "base_uri": "https://localhost:8080/",
          "height": 84
        },
        "outputId": "9a78ac35-c034-4654-8a11-42f9474b582b"
      },
      "source": [
        "y_test"
      ],
      "execution_count": 606,
      "outputs": [
        {
          "output_type": "execute_result",
          "data": {
            "text/plain": [
              "array(['Maruti Ignis 1.3 Delta', 'Hyundai i20 Sportz Petrol',\n",
              "       'Hyundai Santro Xing XK (Non-AC)', ..., 'Maruti Wagon R LXI',\n",
              "       'Mahindra XUV500 W11 AT BSIV', 'Hyundai i20 Asta Option 1.4 CRDi'],\n",
              "      dtype=object)"
            ]
          },
          "metadata": {
            "tags": []
          },
          "execution_count": 606
        }
      ]
    },
    {
      "cell_type": "code",
      "metadata": {
        "id": "5g4NZly1JFdk",
        "colab_type": "code",
        "colab": {
          "base_uri": "https://localhost:8080/",
          "height": 34
        },
        "outputId": "455b69c4-66d5-4211-f962-24a5e3149f6a"
      },
      "source": [
        "from sklearn.metrics import accuracy_score\n",
        "accuracy_score(y_test, y_pred)*100"
      ],
      "execution_count": 607,
      "outputs": [
        {
          "output_type": "execute_result",
          "data": {
            "text/plain": [
              "7.557603686635944"
            ]
          },
          "metadata": {
            "tags": []
          },
          "execution_count": 607
        }
      ]
    },
    {
      "cell_type": "code",
      "metadata": {
        "id": "WgnPIqP-A2x3",
        "colab_type": "code",
        "colab": {
          "base_uri": "https://localhost:8080/",
          "height": 134
        },
        "outputId": "5d7556cc-00b6-4190-b39b-fbec60580984"
      },
      "source": [
        "from sklearn.metrics import confusion_matrix\n",
        "confusion_matrix(y_test,y_pred)"
      ],
      "execution_count": 608,
      "outputs": [
        {
          "output_type": "execute_result",
          "data": {
            "text/plain": [
              "array([[0, 0, 0, ..., 0, 0, 0],\n",
              "       [0, 0, 0, ..., 0, 0, 0],\n",
              "       [0, 0, 0, ..., 0, 0, 0],\n",
              "       ...,\n",
              "       [0, 0, 0, ..., 2, 0, 0],\n",
              "       [0, 0, 0, ..., 0, 0, 0],\n",
              "       [0, 0, 0, ..., 0, 0, 0]])"
            ]
          },
          "metadata": {
            "tags": []
          },
          "execution_count": 608
        }
      ]
    },
    {
      "cell_type": "code",
      "metadata": {
        "id": "S7eWfga-I0EX",
        "colab_type": "code",
        "colab": {
          "base_uri": "https://localhost:8080/",
          "height": 1000
        },
        "outputId": "ed46c323-290f-41dc-e0c0-5c8b8801bf4a"
      },
      "source": [
        "from sklearn.metrics import classification_report\n",
        "print(classification_report(y_test,y_pred))"
      ],
      "execution_count": 609,
      "outputs": [
        {
          "output_type": "stream",
          "text": [
            "                                                  precision    recall  f1-score   support\n",
            "\n",
            "                     Ambassador Classic 2000 Dsz       0.00      0.00      0.00         1\n",
            "            Audi A4 2.0 TDI 177 Bhp Premium Plus       0.00      0.00      0.00         1\n",
            "                         Audi A4 3.0 TDI Quattro       0.00      0.00      0.00         1\n",
            "                               Audi A5 Sportback       0.00      0.00      0.00         1\n",
            "                 Audi A6 2.0 TDI  Design Edition       0.00      0.00      0.00         1\n",
            "                    Audi A6 2.0 TDI Premium Plus       0.09      1.00      0.17         1\n",
            "                                 Audi A6 2.7 TDI       0.00      0.00      0.00         1\n",
            "            Audi Q3 2.0 TDI Quattro Premium Plus       0.00      0.00      0.00         1\n",
            "                                 Audi Q5 2.0 TDI       0.00      0.00      0.00         1\n",
            "              Audi Q5 3.0 TDI Quattro Technology       0.00      0.00      0.00         1\n",
            "                  Audi Q7 35 TDI Quattro Premium       0.00      0.00      0.00         1\n",
            "                   BMW 3 Series 320d Luxury Line       0.00      0.00      0.00         1\n",
            "                   BMW 5 Series 520d Luxury Line       0.00      0.00      0.00         1\n",
            "                         BMW X1 sDrive 20d xLine       0.00      0.00      0.00         3\n",
            "                         BMW X5 xDrive 30d xLine       0.00      0.00      0.00         5\n",
            "                           Chevrolet Aveo 1.4 LS       0.00      0.00      0.00         1\n",
            "                      Chevrolet Aveo U-VA 1.2 LS       0.00      0.00      0.00         2\n",
            "                      Chevrolet Aveo U-VA 1.2 LT       0.00      0.00      0.00         1\n",
            "        Chevrolet Aveo U-VA 1.2 LT WO ABS Airbag       0.00      0.00      0.00         1\n",
            "                           Chevrolet Beat Diesel       0.00      0.00      0.00         2\n",
            "                        Chevrolet Beat Diesel LS       0.00      0.00      0.00         0\n",
            "                        Chevrolet Beat Diesel LT       0.00      0.00      0.00         3\n",
            "                 Chevrolet Beat Diesel LT Option       0.00      0.00      0.00         1\n",
            "                        Chevrolet Beat Diesel PS       0.00      0.00      0.00         1\n",
            "                               Chevrolet Beat LS       0.00      0.00      0.00         1\n",
            "                               Chevrolet Beat LT       0.08      0.33      0.12         3\n",
            "                        Chevrolet Beat LT Option       0.06      1.00      0.11         1\n",
            "                               Chevrolet Beat PS       0.00      0.00      0.00         1\n",
            "                             Chevrolet Cruze LTZ       0.00      0.00      0.00         3\n",
            "                          Chevrolet Cruze LTZ AT       0.00      0.00      0.00         1\n",
            "                Chevrolet Enjoy TCDi LT 7 Seater       0.00      0.00      0.00         1\n",
            "                             Chevrolet Optra 1.6       0.00      0.00      0.00         1\n",
            "                   Chevrolet Optra Magnum 2.0 LT       0.00      0.00      0.00         1\n",
            "                         Chevrolet Sail 1.2 Base       0.00      0.00      0.00         1\n",
            "                 Chevrolet Sail Hatchback 1.2 LS       0.00      0.00      0.00         1\n",
            "                 Chevrolet Sail Hatchback LT ABS       0.00      0.00      0.00         1\n",
            "                             Chevrolet Spark 1.0       0.00      0.00      0.00         1\n",
            "                          Chevrolet Spark 1.0 LS       0.00      0.00      0.00         2\n",
            "        Chevrolet Tavera Neo 2 LS B4 7 Str BSIII       0.00      0.00      0.00         1\n",
            "   Chevrolet Tavera Neo LS B3 - 7(C) seats BSIII       0.00      0.00      0.00         1\n",
            "                                     Datsun GO A       0.00      0.00      0.00         1\n",
            "                          Datsun RediGO T Option       0.50      1.00      0.67         2\n",
            "          Fiat Grande Punto 1.3 Dynamic (Diesel)       0.00      0.00      0.00         1\n",
            "                Fiat Grande Punto EVO 1.3 Active       0.00      0.00      0.00         1\n",
            "                          Fiat Linea 1.3 Emotion       0.00      0.00      0.00         1\n",
            "                      Fiat Linea Active (Diesel)       0.00      0.00      0.00         1\n",
            "                              Fiat Linea Dynamic       0.00      0.00      0.00         1\n",
            "                        Fiat Linea T Jet Emotion       0.00      0.00      0.00         3\n",
            "                          Fiat Punto 1.3 Emotion       0.00      0.00      0.00         1\n",
            "                       Ford Aspire Titanium BSIV       0.00      0.00      0.00         1\n",
            "                Ford Aspire Titanium Diesel BSIV       0.00      0.00      0.00         1\n",
            "                  Ford Aspire Titanium Plus BSIV       0.00      0.00      0.00         2\n",
            "     Ford EcoSport 1.5 Diesel Titanium Plus BSIV       0.00      0.00      0.00         3\n",
            "             Ford EcoSport 1.5 Diesel Trend BSIV       0.00      0.00      0.00         1\n",
            "        Ford EcoSport 1.5 Diesel Trend Plus BSIV       0.00      0.00      0.00         1\n",
            "            Ford EcoSport 1.5 TDCi Titanium BSIV       0.00      0.00      0.00         2\n",
            "    Ford Ecosport 1.0 Ecoboost Titanium Optional       0.00      0.00      0.00         2\n",
            "               Ford Ecosport 1.5 DV5 MT Titanium       0.13      0.67      0.22         3\n",
            "               Ford Ecosport 1.5 Petrol Ambiente       0.00      0.00      0.00         1\n",
            "              Ford Endeavour 2.2 Titanium AT 4X2       0.00      0.00      0.00         1\n",
            "                      Ford Endeavour 2.5L 4X2 MT       0.00      0.00      0.00         1\n",
            "              Ford Endeavour 3.2 Titanium AT 4X4       0.00      0.00      0.00         2\n",
            "                          Ford Endeavour 4x4 XLT       0.00      0.00      0.00         1\n",
            "        Ford Endeavour Hurricane Limited Edition       0.00      0.00      0.00         1\n",
            "                    Ford Fiesta 1.4 SXi TDCi ABS       0.00      0.00      0.00         1\n",
            "                     Ford Fiesta 1.4 ZXi Leather       0.00      0.00      0.00         1\n",
            "                       Ford Fiesta 1.6 Duratec S       0.00      0.00      0.00         1\n",
            "           Ford Fiesta Classic 1.4 Duratorq CLXI       0.00      0.00      0.00         1\n",
            "            Ford Fiesta Classic 1.4 SXI Duratorq       0.00      0.00      0.00         1\n",
            "                   Ford Fiesta Titanium 1.5 TDCi       0.00      0.00      0.00         1\n",
            "                      Ford Figo 1.2P Titanium MT       0.00      0.00      0.00         1\n",
            "                 Ford Figo 1.2P Titanium Plus MT       0.00      0.00      0.00         1\n",
            "                      Ford Figo 1.5D Titanium MT       0.00      0.00      0.00         1\n",
            "                         Ford Figo 1.5D Trend MT       0.00      0.00      0.00         1\n",
            "               Ford Figo Aspire 1.2 Ti-VCT Trend       0.00      0.00      0.00         1\n",
            "              Ford Figo Aspire 1.5 TDCi Titanium       0.00      0.00      0.00         2\n",
            "         Ford Figo Aspire 1.5 TDCi Titanium Plus       0.00      0.00      0.00         1\n",
            "            Ford Figo Diesel Celebration Edition       0.00      0.00      0.00         0\n",
            "                            Ford Figo Diesel EXI       0.00      0.00      0.00         1\n",
            "                       Ford Figo Diesel Titanium       0.00      0.00      0.00         3\n",
            "                            Ford Figo Diesel ZXI       0.00      0.00      0.00         3\n",
            "                            Ford Figo Petrol EXI       0.00      0.00      0.00         1\n",
            "                       Ford Figo Petrol Titanium       0.00      0.00      0.00         2\n",
            "                            Ford Figo Petrol ZXI       0.00      0.00      0.00         1\n",
            "                              Ford Figo Titanium       0.00      0.00      0.00         1\n",
            "                                 Ford Figo Trend       0.00      0.00      0.00         2\n",
            "                  Ford Freestyle Titanium Diesel       0.00      0.00      0.00         0\n",
            "                             Ford Ikon 1.3 Flair       0.00      0.00      0.00         1\n",
            "                      Ford Ikon 1.3L Rocam Flair       0.00      0.00      0.00         1\n",
            "                     Ford Ikon 1.4 TDCi DuraTorq       0.00      0.00      0.00         1\n",
            "                           Ford Ikon 1.6 ZXI NXt       0.00      0.00      0.00         1\n",
            "                         Honda Accord VTi-L (MT)       0.00      0.00      0.00         1\n",
            "                            Honda Amaze E i-VTEC       0.00      0.00      0.00         1\n",
            "                           Honda Amaze E i-Vtech       0.00      0.00      0.00         1\n",
            "                          Honda Amaze EX i-Dtech       0.00      0.00      0.00         3\n",
            "                        Honda Amaze S AT i-Vtech       0.00      0.00      0.00         1\n",
            "                            Honda Amaze S Diesel       0.00      0.00      0.00         1\n",
            "                           Honda Amaze S i-Dtech       0.00      0.00      0.00         2\n",
            "                            Honda Amaze S i-VTEC       0.00      0.00      0.00         2\n",
            "                      Honda Amaze VX Diesel BSIV       0.07      1.00      0.12         1\n",
            "                      Honda Amaze VX Petrol BSIV       0.00      0.00      0.00         1\n",
            "                           Honda Amaze VX i-DTEC       0.00      0.00      0.00         2\n",
            "                           Honda Amaze VX i-VTEC       0.00      0.00      0.00         0\n",
            "                         Honda BR-V i-DTEC VX MT       0.00      0.00      0.00         1\n",
            "                             Honda Brio 1.2 S MT       0.00      0.00      0.00         1\n",
            "                      Honda Brio 1.2 S Option MT       0.00      0.00      0.00         1\n",
            "                                 Honda Brio E MT       0.00      0.00      0.00         1\n",
            "                                 Honda Brio S MT       0.00      0.00      0.00         2\n",
            "                          Honda Brio S Option AT       0.00      0.00      0.00         1\n",
            "                              Honda City 1.3 EXI       0.00      0.00      0.00         0\n",
            "                              Honda City 1.5 EXI       0.00      0.00      0.00         0\n",
            "                             Honda City 1.5 S MT       0.00      0.00      0.00         2\n",
            "                             Honda City 1.5 V AT       0.00      0.00      0.00         2\n",
            "                             Honda City 1.5 V MT       0.00      0.00      0.00         1\n",
            "                                    Honda City S       0.00      0.00      0.00         1\n",
            "                                 Honda City V MT       0.00      0.00      0.00         1\n",
            "                               Honda City VX CVT       0.00      0.00      0.00         1\n",
            "                                Honda City VX MT       0.00      0.00      0.00         1\n",
            "                             Honda City i DTEC S       0.00      0.00      0.00         2\n",
            "                            Honda City i DTEC SV       0.00      0.00      0.00         1\n",
            "                            Honda City i DTEC VX       0.00      0.00      0.00         1\n",
            "                            Honda City i DTec SV       0.00      0.00      0.00         1\n",
            "                             Honda City i DTec V       0.00      0.00      0.00         1\n",
            "                             Honda City i VTEC V       0.00      0.00      0.00         1\n",
            "                            Honda City i VTEC VX       0.00      0.00      0.00         1\n",
            "                            Honda City i-DTEC SV       0.00      0.00      0.00         1\n",
            "                             Honda City i-DTEC V       0.00      0.00      0.00         1\n",
            "                        Honda City i-VTEC CVT ZX       0.00      0.00      0.00         1\n",
            "                            Honda City i-VTEC SV       0.00      0.00      0.00         1\n",
            "                            Honda City i-VTEC VX       0.00      0.00      0.00         1\n",
            "                            Honda City i-VTEC ZX       0.00      0.00      0.00         1\n",
            "                          Honda Civic 1.8 (E) MT       0.00      0.00      0.00         1\n",
            "                            Honda Civic 1.8 S AT       0.00      0.00      0.00         1\n",
            "                            Honda Civic 1.8 V AT       0.00      0.00      0.00         1\n",
            "                            Honda Civic 1.8 V MT       0.00      0.00      0.00         2\n",
            "                         Honda Jazz 1.2 V i VTEC       0.00      0.00      0.00         1\n",
            "                        Honda Jazz 1.5 VX i DTEC       0.00      0.00      0.00         1\n",
            "                                    Honda Jazz S       0.00      0.00      0.00         2\n",
            "                                    Honda Jazz V       0.00      0.00      0.00         1\n",
            "                                   Honda Jazz VX       0.00      0.00      0.00         1\n",
            "                          Honda Mobilio S i DTEC       0.00      0.00      0.00         1\n",
            "                          Honda Mobilio V i DTEC       0.00      0.00      0.00         1\n",
            "                          Honda Mobilio V i VTEC       0.00      0.00      0.00         1\n",
            "                            Honda WR-V i-DTEC VX       0.00      0.00      0.00         3\n",
            "                            Honda WR-V i-VTEC VX       0.00      0.00      0.00         2\n",
            "                             Hyundai Accent CRDi       0.00      0.00      0.00         1\n",
            "                        Hyundai Accent Executive       0.00      0.00      0.00         1\n",
            "                    Hyundai Accent Executive CNG       0.00      0.00      0.00         2\n",
            "                              Hyundai Accent GLE       0.00      0.00      0.00         1\n",
            "                              Hyundai Accent GLS       0.00      0.00      0.00         1\n",
            "                     Hyundai Creta 1.4 CRDi Base       0.00      0.00      0.00         2\n",
            "                     Hyundai Creta 1.4 EX Diesel       0.00      0.00      0.00         1\n",
            "                       Hyundai Creta 1.6 CRDi SX       0.14      0.67      0.24         6\n",
            "                Hyundai Creta 1.6 CRDi SX Option       0.00      0.00      0.00         2\n",
            "                  Hyundai Creta 1.6 CRDi SX Plus       0.00      0.00      0.00         2\n",
            "                  Hyundai Creta 1.6 SX Automatic       0.00      0.00      0.00         1\n",
            "               Hyundai Creta 1.6 VTVT AT SX Plus       0.00      0.00      0.00         1\n",
            "                        Hyundai Creta 1.6 VTVT S       0.00      0.00      0.00         1\n",
            "                        Hyundai EON 1.0 Era Plus       0.00      0.00      0.00         3\n",
            "                         Hyundai EON D Lite Plus       0.00      0.00      0.00         2\n",
            "                                 Hyundai EON Era       0.00      0.00      0.00         1\n",
            "                            Hyundai EON Era Plus       0.05      0.17      0.08         6\n",
            "             Hyundai EON Era Plus Sports Edition       0.00      0.00      0.00         1\n",
            "                               Hyundai EON Magna       0.00      0.00      0.00         1\n",
            "                          Hyundai EON Magna Plus       0.00      0.00      0.00         8\n",
            "                              Hyundai EON Sportz       0.00      0.00      0.00         1\n",
            "                              Hyundai Elantra SX       0.00      0.00      0.00         1\n",
            "             Hyundai Elite i20 Magna Plus Diesel       0.00      0.00      0.00         1\n",
            "              Hyundai Elite i20 Sportz Plus BSIV       0.00      0.00      0.00         2\n",
            "                       Hyundai Getz 1.5 CRDi GVS       0.00      0.00      0.00         1\n",
            "                                Hyundai Getz GLS       0.00      0.00      0.00         1\n",
            "                 Hyundai Grand i10 1.2 CRDi Asta       0.00      0.00      0.00         1\n",
            "                Hyundai Grand i10 1.2 Kappa Asta       0.00      0.00      0.00         1\n",
            "            Hyundai Grand i10 1.2 Kappa Magna AT       0.00      0.00      0.00         6\n",
            "           Hyundai Grand i10 1.2 Kappa Sportz AT       0.00      0.00      0.00         1\n",
            "         Hyundai Grand i10 1.2 Kappa Sportz BSIV       0.00      0.00      0.00         2\n",
            "    Hyundai Grand i10 1.2 Kappa Sportz Dual Tone       0.00      0.00      0.00         1\n",
            "       Hyundai Grand i10 1.2 Kappa Sportz Option       0.00      0.00      0.00         2\n",
            "                          Hyundai Grand i10 Asta       0.00      0.00      0.00         1\n",
            "                   Hyundai Grand i10 Asta Option       0.00      0.00      0.00         1\n",
            "                    Hyundai Grand i10 CRDi Magna       0.00      0.00      0.00         2\n",
            "                   Hyundai Grand i10 CRDi Sportz       0.00      0.00      0.00         3\n",
            "                         Hyundai Grand i10 Magna       0.00      0.00      0.00         0\n",
            "                      Hyundai Grand i10 Magna AT       0.07      1.00      0.12         1\n",
            "                Hyundai Grand i10 Nios AMT Magna       0.00      0.00      0.00         1\n",
            "               Hyundai Grand i10 Nios Magna CRDi       0.00      0.00      0.00         1\n",
            "                        Hyundai Grand i10 Sportz       0.00      0.00      0.00         4\n",
            "                         Hyundai Santa Fe 4WD AT       0.00      0.00      0.00         1\n",
            "                               Hyundai Santro AT       0.00      0.00      0.00         1\n",
            "                             Hyundai Santro Asta       0.00      0.00      0.00         1\n",
            "                               Hyundai Santro GS       0.14      1.00      0.25         4\n",
            "                               Hyundai Santro LE       0.00      0.00      0.00         1\n",
            "                       Hyundai Santro LE zipPlus       0.00      0.00      0.00         2\n",
            "                       Hyundai Santro LP zipPlus       0.00      0.00      0.00         0\n",
            "                   Hyundai Santro Magna AMT BSIV       0.00      0.00      0.00         1\n",
            "                     Hyundai Santro Xing GL Plus       0.00      0.00      0.00         1\n",
            "                 Hyundai Santro Xing GL Plus LPG       0.00      0.00      0.00         1\n",
            "                         Hyundai Santro Xing GLS       0.12      0.14      0.13         7\n",
            "                     Hyundai Santro Xing GLS CNG       0.00      0.00      0.00         1\n",
            "                          Hyundai Santro Xing XG       0.00      0.00      0.00         2\n",
            "                       Hyundai Santro Xing XG AT       0.00      0.00      0.00         1\n",
            "                 Hyundai Santro Xing XK (Non-AC)       0.00      0.00      0.00         1\n",
            "            Hyundai Santro Xing XL eRLX Euro III       0.00      0.00      0.00         4\n",
            "                          Hyundai Santro Xing XO       0.00      0.00      0.00         1\n",
            "                     Hyundai Venue SX Opt Diesel       0.00      0.00      0.00         1\n",
            "                          Hyundai Verna 1.4 CRDi       0.00      0.00      0.00         1\n",
            "                            Hyundai Verna 1.4 EX       0.00      0.00      0.00         1\n",
            "                          Hyundai Verna 1.4 VTVT       0.00      0.00      0.00         1\n",
            "                          Hyundai Verna 1.6 CRDI       0.00      0.00      0.00         2\n",
            "                       Hyundai Verna 1.6 CRDi SX       0.00      0.00      0.00         2\n",
            "                            Hyundai Verna 1.6 SX       0.10      0.25      0.14         4\n",
            "                   Hyundai Verna 1.6 SX CRDi (O)       0.00      0.00      0.00         3\n",
            "                       Hyundai Verna 1.6 SX VTVT       0.00      0.00      0.00         2\n",
            "                   Hyundai Verna 1.6 SX VTVT (O)       0.00      0.00      0.00         1\n",
            "              Hyundai Verna 1.6 VTVT AT S Option       0.00      0.00      0.00         1\n",
            "                        Hyundai Verna 1.6 VTVT S       0.00      0.00      0.00         1\n",
            "                       Hyundai Verna 1.6 VTVT SX       0.09      1.00      0.17         2\n",
            "                              Hyundai Verna CRDi       0.00      0.00      0.00         3\n",
            "                    Hyundai Verna CRDi 1.6 AT EX       0.00      0.00      0.00         2\n",
            "                       Hyundai Verna CRDi 1.6 EX       0.00      0.00      0.00         2\n",
            "                Hyundai Verna CRDi 1.6 SX Option       0.00      0.00      0.00         0\n",
            "                                Hyundai Verna SX       0.00      0.00      0.00         1\n",
            "                      Hyundai Verna SX AT Diesel       0.00      0.00      0.00         1\n",
            "                        Hyundai Verna SX CRDi AT       0.00      0.00      0.00         2\n",
            "                         Hyundai Verna SX Diesel       0.00      0.00      0.00         2\n",
            "                        Hyundai Verna i (Petrol)       0.00      0.00      0.00         2\n",
            "                Hyundai Xcent 1.1 CRDi SX Option       0.00      0.00      0.00         1\n",
            "                        Hyundai Xcent 1.2 CRDi E       0.00      0.00      0.00         2\n",
            "                       Hyundai Xcent 1.2 Kappa S       0.00      0.00      0.00         3\n",
            "                        Hyundai Xcent 1.2 VTVT S       0.00      0.00      0.00         1\n",
            "                     Hyundai Xcent 1.2 VTVT S AT       0.00      0.00      0.00         1\n",
            "                                 Hyundai i10 Era       0.00      0.00      0.00         3\n",
            "                             Hyundai i10 Era 1.1       0.00      0.00      0.00         2\n",
            "                    Hyundai i10 Era 1.1 iTech SE       0.00      0.00      0.00         2\n",
            "                               Hyundai i10 Magna       0.14      0.43      0.21         7\n",
            "                           Hyundai i10 Magna 1.1       0.00      0.00      0.00         0\n",
            "                          Hyundai i10 Magna 1.1L       0.00      0.00      0.00         1\n",
            "                           Hyundai i10 Magna 1.2       0.00      0.00      0.00         1\n",
            "                           Hyundai i10 Magna LPG       0.00      0.00      0.00         1\n",
            "                              Hyundai i10 Sportz       0.00      0.00      0.00         3\n",
            "                         Hyundai i10 Sportz 1.1L       0.00      0.00      0.00         2\n",
            "                          Hyundai i10 Sportz 1.2       0.02      0.25      0.04         4\n",
            "                       Hyundai i10 Sportz 1.2 AT       0.00      0.00      0.00         2\n",
            "                           Hyundai i10 Sportz AT       0.00      0.00      0.00         1\n",
            "                           Hyundai i20 1.2 Magna       0.00      0.00      0.00         1\n",
            "                 Hyundai i20 1.2 Magna Executive       0.00      0.00      0.00         2\n",
            "                          Hyundai i20 1.2 Sportz       0.00      0.00      0.00         2\n",
            "                     Hyundai i20 1.4 Asta Option       0.00      0.00      0.00         1\n",
            "                        Hyundai i20 1.4 CRDi Era       0.00      0.00      0.00         1\n",
            "                          Hyundai i20 1.4 Sportz       0.07      1.00      0.13         1\n",
            "                 Hyundai i20 2015-2017 Magna 1.2       0.00      0.00      0.00         1\n",
            "                        Hyundai i20 Active 1.2 S       0.00      0.00      0.00         2\n",
            "                       Hyundai i20 Active 1.2 SX       0.00      0.00      0.00         1\n",
            "              Hyundai i20 Active 1.4 SX with AVN       0.00      0.00      0.00         1\n",
            "                                Hyundai i20 Asta       0.00      0.00      0.00         2\n",
            "          Hyundai i20 Asta (o) 1.4 CRDi (Diesel)       0.00      0.00      0.00         1\n",
            "                            Hyundai i20 Asta 1.2       0.00      0.00      0.00         2\n",
            "                       Hyundai i20 Asta 1.4 CRDi       0.00      0.00      0.00         2\n",
            "              Hyundai i20 Asta 1.4 CRDi (Diesel)       0.00      0.00      0.00         1\n",
            "                Hyundai i20 Asta Option 1.4 CRDi       0.00      0.00      0.00         2\n",
            "                               Hyundai i20 Magna       0.00      0.00      0.00         3\n",
            "                           Hyundai i20 Magna 1.2       0.00      0.00      0.00         3\n",
            "             Hyundai i20 Magna 1.4 CRDi (Diesel)       0.00      0.00      0.00         2\n",
            "                  Hyundai i20 Magna Optional 1.2       0.00      0.00      0.00         1\n",
            "             Hyundai i20 Magna Optional 1.4 CRDi       0.00      0.00      0.00         1\n",
            "                          Hyundai i20 Sportz 1.2       0.00      0.00      0.00         1\n",
            "                     Hyundai i20 Sportz 1.4 CRDi       0.00      0.00      0.00         1\n",
            "                       Hyundai i20 Sportz Petrol       0.00      0.00      0.00         1\n",
            "                    Isuzu D-Max V-Cross Standard       0.00      0.00      0.00         1\n",
            "            Jaguar XF 3.0 Litre S Premium Luxury       0.00      0.00      0.00         1\n",
            "                Jeep Compass 1.4 Sport Plus BSIV       0.00      0.00      0.00         1\n",
            "                  MG Hector Sharp Diesel MT BSIV       0.00      0.00      0.00         1\n",
            "                 Mahindra Alturas G4 4X2 AT BSIV       0.00      0.00      0.00         1\n",
            "                              Mahindra Bolero B4       0.00      0.00      0.00         1\n",
            "                              Mahindra Bolero DI       0.00      0.00      0.00         1\n",
            "                  Mahindra Bolero DI DX 7 Seater       0.00      0.00      0.00         1\n",
            "      Mahindra Bolero Power Plus Plus AC BSIV PS       0.00      0.00      0.00         3\n",
            "                  Mahindra Bolero Power Plus SLX       0.00      0.00      0.00         3\n",
            "                  Mahindra Bolero Power Plus ZLX       0.00      0.00      0.00         1\n",
            "                             Mahindra Bolero SLE       0.00      0.00      0.00         1\n",
            "                             Mahindra Bolero SLX       0.00      0.00      0.00         3\n",
            "                        Mahindra Jeep CL 500 MDI       0.00      0.00      0.00         1\n",
            "                    Mahindra KUV 100 D75 K6 Plus       0.00      0.00      0.00         1\n",
            "                 Mahindra KUV 100 mFALCON D75 K6       0.00      0.00      0.00         1\n",
            "                 Mahindra KUV 100 mFALCON G80 K2       0.00      0.00      0.00         1\n",
            "            Mahindra KUV 100 mFALCON G80 K2 Plus       0.00      0.00      0.00         1\n",
            "            Mahindra KUV 100 mFALCON G80 K8 5str       0.00      0.00      0.00         2\n",
            "                             Mahindra Marazzo M4       0.00      0.00      0.00         1\n",
            "                              Mahindra Quanto C4       0.00      0.00      0.00         1\n",
            "                              Mahindra Quanto C6       0.00      0.00      0.00         1\n",
            "                       Mahindra Scorpio 1.99 S10       0.00      0.00      0.00         3\n",
            "                        Mahindra Scorpio 1.99 S4       0.00      0.00      0.00         1\n",
            "                       Mahindra Scorpio 2.6 CRDe       0.00      0.00      0.00         2\n",
            "                   Mahindra Scorpio 2.6 CRDe SLE       0.00      0.00      0.00         1\n",
            "                   Mahindra Scorpio 2.6 SLX CRDe       0.00      0.00      0.00         1\n",
            "         Mahindra Scorpio 2.6 SLX Turbo 7 Seater       0.00      0.00      0.00         0\n",
            "                Mahindra Scorpio 2.6 Turbo 9 Str       0.00      0.00      0.00         1\n",
            "                             Mahindra Scorpio EX       0.00      0.00      0.00         1\n",
            "                             Mahindra Scorpio LX       0.00      0.00      0.00         1\n",
            "                        Mahindra Scorpio LX BSIV       0.00      0.00      0.00         1\n",
            "                           Mahindra Scorpio M2DI       0.00      0.00      0.00         3\n",
            "                       Mahindra Scorpio S11 BSIV       0.00      0.00      0.00         1\n",
            "                         Mahindra Scorpio S4 4WD       0.00      0.00      0.00         1\n",
            "                    Mahindra Scorpio S7 140 BSIV       0.00      0.00      0.00         1\n",
            "                        Mahindra Scorpio S9 BSIV       0.00      0.00      0.00         1\n",
            "                       Mahindra Scorpio SLE BSIV       0.00      0.00      0.00         2\n",
            "                  Mahindra Scorpio VLS 2.2 mHawk       0.00      0.00      0.00         1\n",
            "               Mahindra Scorpio VLS AT 2.2 mHAWK       0.00      0.00      0.00         1\n",
            "            Mahindra Scorpio VLX 2WD AIRBAG BSIV       0.00      0.00      0.00         2\n",
            "         Mahindra Scorpio VLX 2WD AIRBAG SE BSIV       0.00      0.00      0.00         1\n",
            "                  Mahindra TUV 300 T10 Dual Tone       0.00      0.00      0.00         1\n",
            "                             Mahindra TUV 300 T4       0.00      0.00      0.00         1\n",
            "                        Mahindra TUV 300 T4 Plus       0.00      0.00      0.00         1\n",
            "                        Mahindra TUV 300 T6 Plus       0.00      0.00      0.00         1\n",
            "                             Mahindra TUV 300 T8       0.00      0.00      0.00         1\n",
            "                         Mahindra TUV 300 T8 AMT       0.00      0.00      0.00         1\n",
            "                    Mahindra TUV 300 mHAWK100 T8       0.00      0.00      0.00         0\n",
            "                               Mahindra Thar 4X2       0.00      0.00      0.00         2\n",
            "                               Mahindra Thar 4X4       0.00      0.00      0.00         1\n",
            "                          Mahindra Thar CRDe ABS       0.00      0.00      0.00         1\n",
            "                           Mahindra Thar CRDe AC       0.00      0.00      0.00         1\n",
            "                    Mahindra Verito 1.5 D2 BSIII       0.00      0.00      0.00         1\n",
            "                    Mahindra Verito 1.5 D6 BSIII       0.00      0.00      0.00         1\n",
            "                 Mahindra Verito Vibe 1.5 dCi D6       0.00      0.00      0.00         1\n",
            "                      Mahindra XUV500 AT W10 FWD       0.00      0.00      0.00         1\n",
            "                       Mahindra XUV500 AT W8 FWD       0.00      0.00      0.00         2\n",
            "                         Mahindra XUV500 W10 2WD       0.00      0.00      0.00         1\n",
            "                         Mahindra XUV500 W10 AWD       0.00      0.00      0.00         1\n",
            "                     Mahindra XUV500 W11 AT BSIV       0.00      0.00      0.00         1\n",
            "                          Mahindra XUV500 W6 2WD       0.00      0.00      0.00         5\n",
            "                          Mahindra XUV500 W8 2WD       0.05      0.33      0.08         3\n",
            "                          Mahindra XUV500 W8 4WD       0.00      0.00      0.00         3\n",
            "                                Mahindra Xylo D2       0.00      0.00      0.00         2\n",
            "                          Mahindra Xylo D2 BS IV       0.00      0.00      0.00         1\n",
            "                           Mahindra Xylo D2 Maxx       0.00      0.00      0.00         1\n",
            "                                Mahindra Xylo D4       0.00      0.00      0.00         1\n",
            "                                Mahindra Xylo E4       0.00      0.00      0.00         1\n",
            "                      Mahindra Xylo E4 ABS BS IV       0.00      0.00      0.00         1\n",
            "                                Mahindra Xylo E8       0.00      0.00      0.00         1\n",
            "                                Mahindra Xylo E9       0.00      0.00      0.00         1\n",
            "                            Mahindra Xylo H4 ABS       0.00      0.00      0.00         1\n",
            "               Mahindra Xylo H8 ABS with Airbags       0.00      0.00      0.00         1\n",
            "                                   Maruti 800 AC       0.00      0.00      0.00         6\n",
            "                             Maruti 800 AC BSIII       0.00      0.00      0.00         4\n",
            "                              Maruti 800 AC Uniq       0.00      0.00      0.00         1\n",
            "                                   Maruti 800 EX       0.00      0.00      0.00         1\n",
            "                                  Maruti 800 Std       0.00      0.00      0.00         4\n",
            "                             Maruti 800 Std BSII       0.00      0.00      0.00         2\n",
            "                               Maruti A-Star Vxi       0.00      0.00      0.00         1\n",
            "                Maruti Alto 800 CNG LXI Optional       0.00      0.00      0.00         1\n",
            "                              Maruti Alto 800 LX       0.00      0.00      0.00         2\n",
            "                             Maruti Alto 800 LXI       0.11      0.58      0.18        12\n",
            "                      Maruti Alto 800 LXI Airbag       0.00      0.00      0.00         1\n",
            "                    Maruti Alto 800 LXI Opt BSIV       0.00      0.00      0.00         1\n",
            "                             Maruti Alto 800 VXI       0.00      0.00      0.00         4\n",
            "                     Maruti Alto Green LXi (CNG)       0.00      0.00      0.00         1\n",
            "                   Maruti Alto K10 2010-2014 VXI       0.00      0.00      0.00         2\n",
            "                             Maruti Alto K10 LXI       0.00      0.00      0.00         3\n",
            "                         Maruti Alto K10 LXI CNG       0.00      0.00      0.00         1\n",
            "                             Maruti Alto K10 VXI       0.00      0.00      0.00         4\n",
            "                         Maruti Alto K10 VXI AGS       0.00      0.00      0.00         1\n",
            "                Maruti Alto K10 VXI AGS Optional       0.00      0.00      0.00         1\n",
            "                      Maruti Alto K10 VXI Airbag       0.00      0.00      0.00         2\n",
            "                                  Maruti Alto LX       0.09      0.33      0.15         9\n",
            "                            Maruti Alto LX BSIII       0.07      0.33      0.12         3\n",
            "                                 Maruti Alto LXI       0.00      0.00      0.00         1\n",
            "                                 Maruti Alto LXi       0.10      0.46      0.16        13\n",
            "                           Maruti Alto LXi BSIII       0.00      0.00      0.00         2\n",
            "                                 Maruti Alto STD       0.00      0.00      0.00         2\n",
            "                         Maruti Baleno Alpha 1.2       0.00      0.00      0.00         1\n",
            "                         Maruti Baleno Alpha 1.3       0.00      0.00      0.00         2\n",
            "                         Maruti Baleno Delta 1.2       0.00      0.00      0.00         0\n",
            "                   Maruti Baleno Delta Automatic       0.00      0.00      0.00         0\n",
            "                     Maruti Baleno RS 1.0 Petrol       0.00      0.00      0.00         1\n",
            "                         Maruti Baleno Sigma 1.2       0.00      0.00      0.00         1\n",
            "                               Maruti Baleno Vxi       0.00      0.00      0.00         1\n",
            "                          Maruti Baleno Zeta 1.2       0.00      0.00      0.00         2\n",
            "                        Maruti Celerio Green VXI       0.00      0.00      0.00         1\n",
            "                      Maruti Celerio LXI MT BSIV       0.00      0.00      0.00         1\n",
            "                              Maruti Celerio VXI       0.00      0.00      0.00         2\n",
            "                     Maruti Celerio VXI AMT BSIV       0.00      0.00      0.00         1\n",
            "                           Maruti Celerio VXI AT       0.00      0.00      0.00         1\n",
            "                              Maruti Celerio ZXI       0.00      0.00      0.00         2\n",
            "                         Maruti Ciaz 1.4 AT Zeta       0.00      0.00      0.00         1\n",
            "                           Maruti Ciaz 1.4 Delta       0.00      0.00      0.00         1\n",
            "                     Maruti Ciaz VDi Option SHVS       0.00      0.00      0.00         1\n",
            "                       Maruti Ciaz VDi Plus SHVS       0.00      0.00      0.00         2\n",
            "                            Maruti Ciaz ZDi Plus       0.00      0.00      0.00         1\n",
            "                            Maruti Ciaz ZDi SHVS       0.00      0.00      0.00         1\n",
            "          Maruti Eeco 5 STR With AC Plus HTR CNG       0.00      0.00      0.00         1\n",
            "                    Maruti Eeco 5 Seater AC BSIV       0.00      0.00      0.00         3\n",
            "              Maruti Eeco 7 Seater Standard BSIV       0.00      0.00      0.00         2\n",
            "                Maruti Eeco CNG 5 Seater AC BSIV       0.00      0.00      0.00         1\n",
            "                          Maruti Ertiga SHVS LDI       0.00      0.00      0.00         1\n",
            "                   Maruti Ertiga SHVS LDI Option       0.00      0.00      0.00         1\n",
            "                          Maruti Ertiga SHVS VDI       0.00      0.00      0.00         2\n",
            "                          Maruti Ertiga SHVS ZDI       0.00      0.00      0.00         1\n",
            "                     Maruti Ertiga SHVS ZDI Plus       0.00      0.00      0.00         1\n",
            "                               Maruti Ertiga VDI       0.00      0.00      0.00         4\n",
            "                               Maruti Ertiga VXI       0.31      0.80      0.44         5\n",
            "                           Maruti Ertiga VXI ABS       0.00      0.00      0.00         1\n",
            "                        Maruti Ertiga VXI Petrol       0.00      0.00      0.00         1\n",
            "                               Maruti Ertiga ZDI       0.00      0.00      0.00         1\n",
            "                          Maruti Ertiga ZDI Plus       0.00      0.00      0.00         1\n",
            "                       Maruti Esteem Lxi - BSIII       0.00      0.00      0.00         1\n",
            "                       Maruti Esteem Vxi - BSIII       0.00      0.00      0.00         1\n",
            "                       Maruti Gypsy King HT BSIV       0.00      0.00      0.00         1\n",
            "       Maruti Gypsy King Hard Top Ambulance BSIV       0.00      0.00      0.00         1\n",
            "                     Maruti Ignis 1.2 Sigma BSIV       0.00      0.00      0.00         1\n",
            "                      Maruti Ignis 1.2 Zeta BSIV       0.00      0.00      0.00         1\n",
            "                          Maruti Ignis 1.3 Delta       0.00      0.00      0.00         1\n",
            "                           Maruti Omni 5 Str STD       0.00      0.00      0.00         1\n",
            "                       Maruti Omni 8 Seater BSIV       0.00      0.00      0.00         1\n",
            "          Maruti Omni BSIII 8-STR W/ IMMOBILISER       0.00      0.00      0.00         1\n",
            "                     Maruti Omni E MPI STD BS IV       0.00      0.00      0.00         2\n",
            "       Maruti Omni LPG CARGO BSIII W IMMOBILISER       0.00      0.00      0.00         2\n",
            "                        Maruti Omni MPI STD BSIV       0.00      0.00      0.00         3\n",
            "                                 Maruti Ritz LDi       0.00      0.00      0.00         1\n",
            "                                 Maruti Ritz LXI       0.00      0.00      0.00         2\n",
            "                                 Maruti Ritz VDi       0.00      0.00      0.00         3\n",
            "                 Maruti S-Cross Zeta DDiS 200 SH       0.00      0.00      0.00         4\n",
            "               Maruti SX4 S Cross DDiS 320 Delta       0.00      0.00      0.00         1\n",
            "                            Maruti SX4 Vxi BSIII       0.00      0.00      0.00         1\n",
            "                             Maruti SX4 Vxi BSIV       0.00      0.00      0.00         4\n",
            "                                  Maruti SX4 ZDI       0.00      0.00      0.00         1\n",
            "               Maruti SX4 Zxi with Leather BSIII       0.00      0.00      0.00         1\n",
            "                            Maruti Swift 1.3 LXI       0.00      0.00      0.00         1\n",
            "                            Maruti Swift 1.3 VXi       0.00      0.00      0.00         2\n",
            "                      Maruti Swift Dzire AMT VDI       0.00      0.00      0.00         2\n",
            "                          Maruti Swift Dzire LDI       0.00      0.00      0.00         2\n",
            "                          Maruti Swift Dzire VDI       0.14      0.42      0.21        19\n",
            "                          Maruti Swift Dzire VDi       0.00      0.00      0.00         4\n",
            "                          Maruti Swift Dzire VXi       0.00      0.00      0.00         4\n",
            "                          Maruti Swift Dzire ZDI       0.00      0.00      0.00         3\n",
            "                          Maruti Swift Dzire ZXI       0.00      0.00      0.00         1\n",
            "                                Maruti Swift LDI       0.00      0.00      0.00         1\n",
            "                           Maruti Swift LDI BSIV       0.00      0.00      0.00         1\n",
            "                           Maruti Swift LXi BSIV       0.00      0.00      0.00         1\n",
            "                          Maruti Swift Ldi BSIII       0.00      0.00      0.00         1\n",
            "                                Maruti Swift VDI       0.33      0.33      0.33        12\n",
            "                           Maruti Swift VDI BSIV       0.00      0.00      0.00         4\n",
            "                       Maruti Swift VDI Optional       0.00      0.00      0.00         1\n",
            "                   Maruti Swift VDi BSIII W/ ABS       0.00      0.00      0.00         1\n",
            "                            Maruti Swift VVT ZXI       0.00      0.00      0.00         1\n",
            "                                Maruti Swift VXI       0.09      0.33      0.14         3\n",
            "                           Maruti Swift VXI BSIV       0.00      0.00      0.00         1\n",
            "                           Maruti Swift VXI Deca       0.00      0.00      0.00         2\n",
            "                       Maruti Swift VXI Optional       0.00      0.00      0.00         2\n",
            "                          Maruti Swift Vdi BSIII       0.00      0.00      0.00         4\n",
            "                                Maruti Swift ZDi       0.00      0.00      0.00         1\n",
            "                           Maruti Swift ZDi BSIV       0.00      0.00      0.00         2\n",
            "                                Maruti Swift ZXI       0.00      0.00      0.00         2\n",
            "                            Maruti Swift ZXI ABS       0.00      0.00      0.00         1\n",
            "                           Maruti Swift ZXI BSIV       0.18      1.00      0.31         4\n",
            "                 Maruti Vitara Brezza LDi Option       0.00      0.00      0.00         1\n",
            "                 Maruti Vitara Brezza VDi Option       0.00      0.00      0.00         1\n",
            "                   Maruti Vitara Brezza ZDi Plus       0.00      0.00      0.00         1\n",
            "     Maruti Vitara Brezza ZDi Plus AMT Dual Tone       0.00      0.00      0.00         1\n",
            "         Maruti Vitara Brezza ZDi Plus Dual Tone       0.00      0.00      0.00         1\n",
            "                          Maruti Wagon R AMT VXI       0.00      0.00      0.00         2\n",
            "                   Maruti Wagon R AMT VXI Option       0.00      0.00      0.00         1\n",
            "                               Maruti Wagon R AX       0.00      0.00      0.00         1\n",
            "                          Maruti Wagon R DUO LPG       0.00      0.00      0.00         1\n",
            "                               Maruti Wagon R LX       0.00      0.00      0.00         1\n",
            "                         Maruti Wagon R LX BS IV       0.00      0.00      0.00         1\n",
            "                         Maruti Wagon R LX Minor       0.00      0.00      0.00         2\n",
            "                              Maruti Wagon R LXI       0.50      0.17      0.25         6\n",
            "                        Maruti Wagon R LXI BS IV       0.00      0.00      0.00         2\n",
            "                          Maruti Wagon R LXI CNG       0.00      0.00      0.00         2\n",
            "                    Maruti Wagon R LXI DUO BSIII       0.00      0.00      0.00         2\n",
            "                        Maruti Wagon R LXI Minor       0.00      0.00      0.00         7\n",
            "                              Maruti Wagon R VXI       0.00      0.00      0.00         2\n",
            "                   Maruti Wagon R VXI AMT1.2BSIV       0.00      0.00      0.00         1\n",
            "                        Maruti Wagon R VXI BS IV       0.05      0.20      0.08         5\n",
            "                         Maruti Wagon R VXI BSII       0.00      0.00      0.00         1\n",
            "                        Maruti Wagon R VXI BSIII       0.00      0.00      0.00         1\n",
            "                        Maruti Wagon R VXI Minor       0.00      0.00      0.00         3\n",
            "                    Maruti Wagon R VXI Minor ABS       0.00      0.00      0.00         1\n",
            "                     Maruti Wagon R VXI Optional       0.00      0.00      0.00         1\n",
            "                         Maruti Wagon R VXi BSII       0.00      0.00      0.00         1\n",
            "                                    Maruti Zen D       0.00      0.00      0.00         1\n",
            "                                 Maruti Zen D PS       0.00      0.00      0.00         2\n",
            "                 Maruti Zen Estilo 1.1 LXI BSIII       0.00      0.00      0.00         0\n",
            "                      Maruti Zen Estilo LX BSIII       0.00      0.00      0.00         1\n",
            "                        Maruti Zen Estilo Sports       0.00      0.00      0.00         1\n",
            "                     Maruti Zen Estilo VXI BSIII       0.00      0.00      0.00         1\n",
            "                      Maruti Zen Estilo VXI BSIV       0.00      0.00      0.00         2\n",
            "                                   Maruti Zen LX       0.00      0.00      0.00         5\n",
            "                                  Maruti Zen LXI       0.00      0.00      0.00         2\n",
            "                         Maruti Zen LXi - BS III       0.00      0.00      0.00         1\n",
            "                                   Maruti Zen VX       0.00      0.00      0.00         1\n",
            "                                  Maruti Zen VXI       0.00      0.00      0.00         1\n",
            "                         Maruti Zen VXi - BS III       0.00      0.00      0.00         1\n",
            "        Mercedes-Benz C-Class Progressive C 220d       0.00      0.00      0.00         5\n",
            "                       Mercedes-Benz E-Class 230       0.00      0.00      0.00         1\n",
            "  Mercedes-Benz E-Class E250 CDI Blue Efficiency       0.00      0.00      0.00         1\n",
            "  Mercedes-Benz GL-Class 350 CDI Blue Efficiency       0.00      0.00      0.00         1\n",
            "            Mercedes-Benz New C-Class 220 CDI AT       0.00      0.00      0.00         1\n",
            "Mercedes-Benz New C-Class C 220 CDI BE Avantgare       0.00      0.00      0.00         1\n",
            "                        Mitsubishi Outlander 2.4       0.00      0.00      0.00         1\n",
            "        Mitsubishi Pajero 2.8 SFX BSIV Dual Tone       0.00      0.00      0.00         1\n",
            "                     Mitsubishi Pajero Sport 4X4       0.00      0.00      0.00         1\n",
            "                          Nissan Kicks XL D BSIV       0.00      0.00      0.00         1\n",
            "                   Nissan Micra Active XV Petrol       0.00      0.00      0.00         1\n",
            "                  Nissan Micra Diesel XV Premium       0.00      0.00      0.00         4\n",
            "                    Nissan Micra Diesel XV Primo       0.00      0.00      0.00         1\n",
            "                                 Nissan Micra XL       0.00      0.00      0.00         2\n",
            "                             Nissan Micra XL CVT       0.00      0.00      0.00         1\n",
            "                          Nissan Sunny Diesel XL       0.00      0.00      0.00         1\n",
            "                          Nissan Sunny Diesel XV       0.00      0.00      0.00         1\n",
            "                                 Nissan Sunny XL       0.00      0.00      0.00         1\n",
            "                               Nissan Sunny XL D       0.00      0.00      0.00         1\n",
            "                         Nissan Terrano XE 85 PS       0.00      0.00      0.00         1\n",
            "                         Nissan Terrano XL 85 PS       0.00      0.00      0.00         2\n",
            "                    Nissan Terrano XL Plus 85 PS       0.00      0.00      0.00         1\n",
            "              Nissan Terrano XL Plus ICC WT20 SE       0.00      0.00      0.00         1\n",
            "                           Nissan X-Trail SLX MT       0.00      0.00      0.00         1\n",
            "                                OpelCorsa 1.4 GL       0.00      0.00      0.00         1\n",
            "                                OpelCorsa 1.6Gls       0.00      0.00      0.00         1\n",
            "                   Renault Captur 1.5 Diesel RXT       0.00      0.00      0.00         1\n",
            "              Renault Captur 1.5 Diesel RXT Mono       0.00      0.00      0.00         1\n",
            "                 Renault Duster 110PS Diesel RxL       0.00      0.00      0.00         1\n",
            "                 Renault Duster 110PS Diesel RxZ       0.00      0.00      0.00         1\n",
            "                  Renault Duster 85PS Diesel RxE       0.00      0.00      0.00         1\n",
            "                  Renault Duster 85PS Diesel RxL       0.16      1.00      0.28         4\n",
            "                             Renault Fluence 1.5       0.00      0.00      0.00         1\n",
            "                   Renault KWID 1.0 RXT Optional       0.00      0.00      0.00         4\n",
            "               Renault KWID Climber 1.0 AMT BSIV       0.00      0.00      0.00         1\n",
            "                                Renault KWID RXE       0.00      0.00      0.00         1\n",
            "                                Renault KWID RXL       0.00      0.00      0.00         2\n",
            "                           Renault KWID RXL BSIV       0.00      0.00      0.00         2\n",
            "                                Renault KWID RXT       0.00      0.00      0.00         7\n",
            "                       Renault KWID RXT Optional       0.00      0.00      0.00         2\n",
            "                          Renault Lodgy 85PS RxL       0.00      0.00      0.00         1\n",
            "                               Renault Pulse RxL       0.00      0.00      0.00         1\n",
            "                        Renault Scala Diesel RxL       0.00      0.00      0.00         3\n",
            "                Skoda Fabia 1.2L Diesel Ambiente       0.00      0.00      0.00         2\n",
            "                 Skoda Laura 1.9 TDI MT Ambiente       0.00      0.00      0.00         1\n",
            "                     Skoda Laura Ambiente 1.9 PD       0.00      0.00      0.00         1\n",
            "              Skoda Laura Ambiente 2.0 TDI CR MT       0.33      1.00      0.50         5\n",
            "                Skoda Laura Elegance 1.9 TDI  AT       0.00      0.00      0.00         1\n",
            "                        Skoda Laura L n K 1.9 PD       0.00      0.00      0.00         2\n",
            "               Skoda Octavia Elegance 2.0 TDI AT       0.00      0.00      0.00         2\n",
            "                    Skoda Rapid 1.5 TDI Ambition       0.00      0.00      0.00         1\n",
            "               Skoda Rapid 1.5 TDI Ambition BSIV       0.00      0.00      0.00         1\n",
            "                    Skoda Rapid 1.5 TDI Elegance       0.00      0.00      0.00         1\n",
            "            Skoda Rapid 1.6 MPI AT Ambition BSIV       0.00      0.00      0.00         1\n",
            "         Skoda Rapid Monte Carlo 1.6 MPI AT BSIV       0.00      0.00      0.00         1\n",
            "                        Skoda Superb 1.8 TFSI MT       0.00      0.00      0.00         1\n",
            "             Skoda Superb Ambition 2.0 TDI CR AT       0.00      0.00      0.00         2\n",
            "             Skoda Superb Elegance 2.0 TDI CR AT       0.00      0.00      0.00         2\n",
            "                      Skoda Superb LK 1.8 TSI AT       0.00      0.00      0.00         1\n",
            "                                  Tata Altroz XZ       0.00      0.00      0.00         1\n",
            "                            Tata Harrier XZ BSIV       0.00      0.00      0.00         1\n",
            "                                    Tata Hexa XM       0.00      0.00      0.00         1\n",
            "                                Tata Hexa XT 4X4       0.00      0.00      0.00         1\n",
            "                                 Tata Indica DLE       0.00      0.00      0.00         1\n",
            "                                 Tata Indica DLX       0.00      0.00      0.00         1\n",
            "                           Tata Indica GLS BS IV       0.00      0.00      0.00         2\n",
            "                                 Tata Indica LSI       0.00      0.00      0.00         2\n",
            "          Tata Indica Vista Aqua 1.2 Safire BSIV       0.00      0.00      0.00         2\n",
            "            Tata Indica Vista Aqua 1.3 Quadrajet       0.00      0.00      0.00         1\n",
            "   Tata Indica Vista Aqua 1.3 Quadrajet ABS BSIV       0.00      0.00      0.00         1\n",
            "                  Tata Indica Vista Aqua 1.4 TDI       0.00      0.00      0.00         2\n",
            "                Tata Indica Vista Aqua TDI BSIII       0.00      0.00      0.00         1\n",
            "       Tata Indica Vista Aura Plus 1.3 Quadrajet       0.00      0.00      0.00         2\n",
            "               Tata Indica Vista Quadrajet 90 VX       0.00      0.00      0.00         1\n",
            "                  Tata Indica Vista Quadrajet LX       0.00      0.00      0.00         3\n",
            "                  Tata Indica Vista Quadrajet VX       0.00      0.00      0.00         2\n",
            "                        Tata Indica Vista TDI LS       0.00      0.00      0.00         1\n",
            "                 Tata Indica Vista Terra 1.4 TDI       0.00      0.00      0.00         1\n",
            "    Tata Indica Vista Terra Quadrajet 1.3L BS IV       0.00      0.00      0.00         1\n",
            "                                 Tata Indigo CR4       0.00      0.00      0.00         4\n",
            "                     Tata Indigo CS Emax CNG GLX       0.00      0.00      0.00         1\n",
            "                  Tata Indigo CS LX (TDI) BS-III       0.00      0.00      0.00         1\n",
            "                        Tata Indigo CS eLX BS IV       0.00      0.00      0.00         1\n",
            "                                 Tata Indigo GLS       0.00      0.00      0.00         2\n",
            "                         Tata Indigo Grand Dicor       0.00      0.00      0.00         2\n",
            "                        Tata Indigo Grand Petrol       0.14      1.00      0.25         1\n",
            "                                  Tata Indigo LS       0.00      0.00      0.00         4\n",
            "                            Tata Indigo LS Dicor       0.00      0.00      0.00         1\n",
            "                                  Tata Indigo LX       0.00      0.00      0.00         2\n",
            "                                 Tata Indigo TDI       0.00      0.00      0.00         1\n",
            "                 Tata Manza Aqua Quadrajet BS IV       0.00      0.00      0.00         1\n",
            "           Tata Manza Aura (ABS) Quadrajet BS IV       0.00      0.00      0.00         1\n",
            "              Tata Manza Aura (ABS) Safire BS IV       0.00      0.00      0.00         1\n",
            "                          Tata Manza Aura Safire       0.00      0.00      0.00         1\n",
            "            Tata Manza Club Class Quadrajet90 LS       0.00      0.00      0.00         1\n",
            "                 Tata Manza ELAN Quadrajet BS IV       0.00      0.00      0.00         1\n",
            "                                 Tata Nano CX SE       0.00      0.00      0.00         1\n",
            "                              Tata Nano Cx BSIII       0.00      0.00      0.00         1\n",
            "                                 Tata Nano LX SE       0.00      0.00      0.00         1\n",
            "                                    Tata Nano Lx       0.00      0.00      0.00         1\n",
            "                               Tata Nano Lx BSIV       0.00      0.00      0.00         1\n",
            "                                   Tata Nano STD       0.00      0.00      0.00         1\n",
            "                              Tata Nano Std BSII       0.00      0.00      0.00         1\n",
            "                              Tata Nano Twist XE       0.00      0.00      0.00         1\n",
            "                                    Tata Nano XM       0.00      0.00      0.00         1\n",
            "                 Tata New Safari 3L Dicor LX 4x2       0.00      0.00      0.00         1\n",
            "                Tata New Safari DICOR 2.2 EX 4x2       0.00      0.00      0.00         5\n",
            "                Tata New Safari DICOR 2.2 EX 4x4       0.00      0.00      0.00         1\n",
            "                Tata New Safari DICOR 2.2 GX 4x2       0.00      0.00      0.00         1\n",
            "          Tata New Safari DICOR 2.2 GX 4x2 BS IV       0.00      0.00      0.00         3\n",
            "                Tata New Safari DICOR 2.2 VX 4x4       0.00      0.00      0.00         1\n",
            "                      Tata Nexon 1.2 Revotron XM       0.00      0.00      0.00         1\n",
            "                 Tata Nexon 1.2 Revotron XZ Plus       0.00      0.00      0.00         1\n",
            "                           Tata Safari Storme VX       0.00      0.00      0.00         1\n",
            "                     Tata Sumo GX TC 7 Str BSIII       0.00      0.00      0.00         1\n",
            "                           Tata Sumo GX TC 8 Str       0.00      0.00      0.00         1\n",
            "                 Tata Sumo Victa CX 7/9 Str BSII       0.00      0.00      0.00         1\n",
            "              Tata Tiago 1.05 Revotorq XT Option       0.00      0.00      0.00         1\n",
            "                Tata Tiago 1.05 Revotorq XZ Plus       0.00      0.00      0.00         1\n",
            "                      Tata Tiago 1.2 Revotron XZ       0.00      0.00      0.00         2\n",
            "                      Tata Tigor 1.2 Revotron XT       0.00      0.00      0.00         0\n",
            "               Tata Winger Deluxe - Hi Roof (AC)       0.00      0.00      0.00         1\n",
            "                      Tata Zest Revotron 1.2T XE       0.00      0.00      0.00         1\n",
            "                     Toyota Corolla Altis 1.8 GL       0.00      0.00      0.00         1\n",
            "                      Toyota Corolla Altis 1.8 J       0.00      0.00      0.00         1\n",
            "                  Toyota Corolla Altis 1.8 VL AT       0.00      0.00      0.00         1\n",
            "                Toyota Corolla Altis Diesel D4DG       0.00      0.00      0.00         1\n",
            "                          Toyota Corolla Altis G       0.00      0.00      0.00         1\n",
            "                       Toyota Corolla Altis G AT       0.00      0.00      0.00         1\n",
            "                   Toyota Corolla Executive (HE)       0.00      0.00      0.00         1\n",
            "                               Toyota Corolla H2       0.00      0.00      0.00         1\n",
            "                            Toyota Etios 1.4 VXD       0.00      0.00      0.00         1\n",
            "                       Toyota Etios Cross 1.2L G       0.00      0.00      0.00         2\n",
            "                                 Toyota Etios GD       0.00      0.00      0.00         2\n",
            "                         Toyota Etios Liva 1.2 G       0.00      0.00      0.00         1\n",
            "                        Toyota Etios Liva 1.2 VX       0.00      0.00      0.00         1\n",
            "                        Toyota Etios Liva 1.4 VD       0.00      0.00      0.00         3\n",
            "                                  Toyota Etios V       0.00      0.00      0.00         2\n",
            "                                 Toyota Etios VD       0.00      0.00      0.00         3\n",
            "                 Toyota Fortuner 2.8 2WD AT BSIV       0.00      0.00      0.00         2\n",
            "                          Toyota Fortuner 4x2 AT       0.07      1.00      0.14         2\n",
            "          Toyota Innova 2.5 E Diesel MS 7-seater       0.00      0.00      0.00         1\n",
            "           Toyota Innova 2.5 G (Diesel) 7 Seater       0.00      0.00      0.00         2\n",
            "           Toyota Innova 2.5 G (Diesel) 8 Seater       0.00      0.00      0.00         0\n",
            "     Toyota Innova 2.5 G (Diesel) 8 Seater BS IV       0.00      0.00      0.00         1\n",
            "                       Toyota Innova 2.5 G1 BSIV       0.00      0.00      0.00         1\n",
            "                            Toyota Innova 2.5 G3       0.00      0.00      0.00         1\n",
            "            Toyota Innova 2.5 G4 Diesel 7-seater       0.00      0.00      0.00         2\n",
            "          Toyota Innova 2.5 GX (Diesel) 7 Seater       0.00      0.00      0.00         1\n",
            "    Toyota Innova 2.5 GX (Diesel) 7 Seater BS IV       0.00      0.00      0.00         2\n",
            "                      Toyota Innova 2.5 GX 7 STR       0.00      0.00      0.00         1\n",
            "                 Toyota Innova 2.5 GX 8 STR BSIV       0.00      0.00      0.00         1\n",
            "             Toyota Innova 2.5 V Diesel 7-seater       0.00      0.00      0.00         1\n",
            "             Toyota Innova 2.5 V Diesel 8-seater       0.00      0.00      0.00         0\n",
            "          Toyota Innova 2.5 VX (Diesel) 7 Seater       0.00      0.00      0.00         1\n",
            "    Toyota Innova 2.5 VX (Diesel) 7 Seater BS IV       0.00      0.00      0.00         1\n",
            "          Toyota Innova 2.5 VX (Diesel) 8 Seater       0.00      0.00      0.00         2\n",
            "                      Toyota Innova 2.5 VX 8 STR       0.00      0.00      0.00         2\n",
            "       Toyota Innova 2.5 Z Diesel 7 Seater BS IV       0.00      0.00      0.00         1\n",
            "              Toyota Innova Crysta 2.4 G MT BSIV       0.00      0.00      0.00         1\n",
            "          Toyota Innova Crysta 2.4 VX MT 8S BSIV       0.00      0.00      0.00         1\n",
            "             Toyota Innova Crysta 2.4 VX MT BSIV       0.00      0.00      0.00         0\n",
            "                  Toyota Innova Crysta 2.4 ZX MT       0.00      0.00      0.00         1\n",
            "             Toyota Innova Crysta 2.8 ZX AT BSIV       0.00      0.00      0.00         1\n",
            "               Volkswagen Ameo 1.2 MPI Trendline       0.00      0.00      0.00         1\n",
            "             Volkswagen Ameo 1.5 TDI Comfortline       0.00      0.00      0.00         1\n",
            "       Volkswagen Ameo 1.5 TDI Highline 16 Alloy       0.00      0.00      0.00         1\n",
            "        Volkswagen Ameo 1.5 TDI Highline Plus 16       0.00      0.00      0.00         1\n",
            "            Volkswagen Jetta 1.4 TSI Comfortline       0.00      0.00      0.00         1\n",
            "               Volkswagen Jetta 1.9 Highline TDI       0.00      0.00      0.00         1\n",
            "        Volkswagen Jetta 1.9 TDI Comfortline DSG       0.00      0.00      0.00         1\n",
            "              Volkswagen Jetta 2.0 TDI Trendline       0.00      0.00      0.00         1\n",
            "           Volkswagen Jetta 2.0L TDI Comfortline       0.00      0.00      0.00         1\n",
            "           Volkswagen Jetta 2.0L TDI Highline AT       0.00      0.00      0.00         1\n",
            "           Volkswagen Polo 1.0 TSI Highline Plus       0.00      0.00      0.00         1\n",
            "             Volkswagen Polo 1.2 MPI Comfortline       0.00      0.00      0.00         1\n",
            "                Volkswagen Polo 1.2 MPI Highline       0.00      0.00      0.00         1\n",
            "               Volkswagen Polo 1.5 TDI Trendline       0.00      0.00      0.00         1\n",
            "      Volkswagen Polo 2015-2019 1.2 MPI Highline       0.00      0.00      0.00         1\n",
            "         Volkswagen Polo Diesel Comfortline 1.2L       0.00      0.00      0.00         1\n",
            "            Volkswagen Polo Diesel Highline 1.2L       0.00      0.00      0.00         1\n",
            "           Volkswagen Polo Diesel Trendline 1.2L       0.00      0.00      0.00         2\n",
            "                             Volkswagen Polo GTI       0.00      0.00      0.00         2\n",
            "         Volkswagen Polo Petrol Comfortline 1.2L       0.00      0.00      0.00         1\n",
            "            Volkswagen Polo Petrol Highline 1.2L       0.00      0.00      0.00         1\n",
            "         Volkswagen Vento 1.5 TDI Comfortline AT       0.00      0.00      0.00         1\n",
            "               Volkswagen Vento 1.5 TDI Highline       0.00      0.00      0.00         1\n",
            "                Volkswagen Vento Diesel Highline       0.12      0.67      0.20         3\n",
            "                 Volvo XC 90 D5 Inscription BSIV       0.00      0.00      0.00         1\n",
            "                           Volvo XC60 D3 Kinetic       0.00      0.00      0.00         1\n",
            "\n",
            "                                        accuracy                           0.08      1085\n",
            "                                       macro avg       0.01      0.03      0.01      1085\n",
            "                                    weighted avg       0.02      0.08      0.03      1085\n",
            "\n"
          ],
          "name": "stdout"
        },
        {
          "output_type": "stream",
          "text": [
            "/usr/local/lib/python3.6/dist-packages/sklearn/metrics/_classification.py:1272: UndefinedMetricWarning: Precision and F-score are ill-defined and being set to 0.0 in labels with no predicted samples. Use `zero_division` parameter to control this behavior.\n",
            "  _warn_prf(average, modifier, msg_start, len(result))\n",
            "/usr/local/lib/python3.6/dist-packages/sklearn/metrics/_classification.py:1272: UndefinedMetricWarning: Recall and F-score are ill-defined and being set to 0.0 in labels with no true samples. Use `zero_division` parameter to control this behavior.\n",
            "  _warn_prf(average, modifier, msg_start, len(result))\n"
          ],
          "name": "stderr"
        }
      ]
    },
    {
      "cell_type": "code",
      "metadata": {
        "id": "kmkIKufHhYkP",
        "colab_type": "code",
        "colab": {
          "base_uri": "https://localhost:8080/",
          "height": 733
        },
        "outputId": "5a1996db-b746-4788-ec0a-ff098447e4df"
      },
      "source": [
        "#Graph analysing number of car slaes per year\n",
        "graph = sns.countplot(x='year', data=df)\n",
        "i=1\n",
        "for p in graph.patches:\n",
        "  height = p.get_height()\n",
        "  width = p.get_width()\n",
        "  i=i+1\n",
        "  print(p.get_x())\n",
        "plt.show()"
      ],
      "execution_count": 610,
      "outputs": [
        {
          "output_type": "stream",
          "text": [
            "-0.4\n",
            "0.6\n",
            "1.6\n",
            "2.6\n",
            "3.6\n",
            "4.6\n",
            "5.6\n",
            "6.6\n",
            "7.6\n",
            "8.6\n",
            "9.6\n",
            "10.6\n",
            "11.6\n",
            "12.6\n",
            "13.6\n",
            "14.6\n",
            "15.6\n",
            "16.6\n",
            "17.6\n",
            "18.6\n",
            "19.6\n",
            "20.6\n",
            "21.6\n",
            "22.6\n",
            "23.6\n",
            "24.6\n",
            "25.6\n"
          ],
          "name": "stdout"
        },
        {
          "output_type": "display_data",
          "data": {
            "image/png": "[encoded data removed]",
            "text/plain": [
              "<Figure size 432x288 with 1 Axes>"
            ]
          },
          "metadata": {
            "tags": [],
            "needs_background": "light"
          }
        }
      ]
    },
    {
      "cell_type": "code",
      "metadata": {
        "id": "rG583QgviLdv",
        "colab_type": "code",
        "colab": {
          "base_uri": "https://localhost:8080/",
          "height": 363
        },
        "outputId": "d0d5318b-292b-4eac-ed0b-6bf80e080376"
      },
      "source": [
        "#Graph analysing types of fuels used by nu,ber of cars\n",
        "graph = sns.countplot(x='fuel', data=df)\n",
        "i=1\n",
        "for p in graph.patches:\n",
        "  height = p.get_height()\n",
        "  width = p.get_width()\n",
        "  i=i+1\n",
        "  print(p.get_x())\n",
        "plt.show()"
      ],
      "execution_count": 611,
      "outputs": [
        {
          "output_type": "stream",
          "text": [
            "-0.4\n",
            "0.6\n",
            "1.6\n",
            "2.6\n",
            "3.6\n"
          ],
          "name": "stdout"
        },
        {
          "output_type": "display_data",
          "data": {
            "image/png": "[encoded data removed]",
            "text/plain": [
              "<Figure size 432x288 with 1 Axes>"
            ]
          },
          "metadata": {
            "tags": [],
            "needs_background": "light"
          }
        }
      ]
    },
    {
      "cell_type": "code",
      "metadata": {
        "id": "34QBG81zigfo",
        "colab_type": "code",
        "colab": {
          "base_uri": "https://localhost:8080/",
          "height": 363
        },
        "outputId": "37508fc1-f4f8-4ef5-8da6-aa3432a60cc1"
      },
      "source": [
        "#Graph analysing number of cars that are sold to first owner and second owner\n",
        "graph = sns.countplot(x='owner', data=df)\n",
        "i=1\n",
        "for p in graph.patches:\n",
        "  height = p.get_height()\n",
        "  width = p.get_width()\n",
        "  i=i+1\n",
        "  print(p.get_x())\n",
        "plt.show()"
      ],
      "execution_count": 612,
      "outputs": [
        {
          "output_type": "stream",
          "text": [
            "-0.4\n",
            "0.6\n",
            "1.6\n",
            "2.6\n",
            "3.6\n"
          ],
          "name": "stdout"
        },
        {
          "output_type": "display_data",
          "data": {
            "image/png": "[encoded data removed]",
            "text/plain": [
              "<Figure size 432x288 with 1 Axes>"
            ]
          },
          "metadata": {
            "tags": [],
            "needs_background": "light"
          }
        }
      ]
    },
    {
      "cell_type": "code",
      "metadata": {
        "id": "z-cBVR_Kiq0W",
        "colab_type": "code",
        "colab": {
          "base_uri": "https://localhost:8080/",
          "height": 313
        },
        "outputId": "a903f100-ab27-44b4-ffcf-8f6834d4a545"
      },
      "source": [
        "#Graph analysing transmission type of sold cars\n",
        "graph = sns.countplot(x='transmission', data=df)\n",
        "i=1\n",
        "for p in graph.patches:\n",
        "  height = p.get_height()\n",
        "  width = p.get_width()\n",
        "  i=i+1\n",
        "  print(p.get_x())\n",
        "plt.show()"
      ],
      "execution_count": 613,
      "outputs": [
        {
          "output_type": "stream",
          "text": [
            "-0.4\n",
            "0.6\n"
          ],
          "name": "stdout"
        },
        {
          "output_type": "display_data",
          "data": {
            "image/png": "[encoded data removed]",
            "text/plain": [
              "<Figure size 432x288 with 1 Axes>"
            ]
          },
          "metadata": {
            "tags": [],
            "needs_background": "light"
          }
        }
      ]
    },
    {
      "cell_type": "code",
      "metadata": {
        "id": "K6aDR-5pi3lu",
        "colab_type": "code",
        "colab": {}
      },
      "source": [
        ""
      ],
      "execution_count": 613,
      "outputs": []
    }
  ]
}